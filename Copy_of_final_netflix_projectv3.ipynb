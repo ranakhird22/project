{
  "cells": [
    {
      "cell_type": "code",
      "execution_count": null,
      "id": "72078ae1",
      "metadata": {
        "id": "72078ae1"
      },
      "outputs": [],
      "source": [
        "import pandas as pd\n",
        "import numpy as np\n",
        "import matplotlib.pyplot as plt\n",
        "\n",
        "import seaborn as sns\n",
        "\n",
        "from sklearn.model_selection import train_test_split\n",
        "from sklearn.feature_extraction.text import TfidfVectorizer\n",
        "\n",
        "##e2\n",
        "from sklearn.feature_extraction.text import CountVectorizer\n",
        "from sklearn.metrics.pairwise import cosine_similarity\n",
        "\n"
      ]
    },
    {
      "cell_type": "code",
      "execution_count": null,
      "id": "dcc9503f",
      "metadata": {
        "id": "dcc9503f"
      },
      "outputs": [],
      "source": [
        "df = pd.read_csv(\"https://raw.githubusercontent.com/ranakhird22/project/main/netflix_titles.csv\")"
      ]
    },
    {
      "cell_type": "code",
      "execution_count": null,
      "id": "0d9fa38b",
      "metadata": {
        "colab": {
          "base_uri": "https://localhost:8080/",
          "height": 432
        },
        "id": "0d9fa38b",
        "outputId": "ad7db345-c3fd-4389-cd42-fac2953f963b"
      },
      "outputs": [
        {
          "output_type": "execute_result",
          "data": {
            "text/html": [
              "<div>\n",
              "<style scoped>\n",
              "    .dataframe tbody tr th:only-of-type {\n",
              "        vertical-align: middle;\n",
              "    }\n",
              "\n",
              "    .dataframe tbody tr th {\n",
              "        vertical-align: top;\n",
              "    }\n",
              "\n",
              "    .dataframe thead th {\n",
              "        text-align: right;\n",
              "    }\n",
              "</style>\n",
              "<table border=\"1\" class=\"dataframe\">\n",
              "  <thead>\n",
              "    <tr style=\"text-align: right;\">\n",
              "      <th></th>\n",
              "      <th>show_id</th>\n",
              "      <th>type</th>\n",
              "      <th>title</th>\n",
              "      <th>director</th>\n",
              "      <th>cast</th>\n",
              "      <th>country</th>\n",
              "      <th>date_added</th>\n",
              "      <th>release_year</th>\n",
              "      <th>rating</th>\n",
              "      <th>duration</th>\n",
              "      <th>listed_in</th>\n",
              "      <th>description</th>\n",
              "    </tr>\n",
              "  </thead>\n",
              "  <tbody>\n",
              "    <tr>\n",
              "      <th>0</th>\n",
              "      <td>s1</td>\n",
              "      <td>Movie</td>\n",
              "      <td>Dick Johnson Is Dead</td>\n",
              "      <td>Kirsten Johnson</td>\n",
              "      <td>NaN</td>\n",
              "      <td>United States</td>\n",
              "      <td>September 25, 2021</td>\n",
              "      <td>2020</td>\n",
              "      <td>PG-13</td>\n",
              "      <td>90 min</td>\n",
              "      <td>Documentaries</td>\n",
              "      <td>As her father nears the end of his life, filmm...</td>\n",
              "    </tr>\n",
              "    <tr>\n",
              "      <th>1</th>\n",
              "      <td>s2</td>\n",
              "      <td>TV Show</td>\n",
              "      <td>Blood &amp; Water</td>\n",
              "      <td>NaN</td>\n",
              "      <td>Ama Qamata, Khosi Ngema, Gail Mabalane, Thaban...</td>\n",
              "      <td>South Africa</td>\n",
              "      <td>September 24, 2021</td>\n",
              "      <td>2021</td>\n",
              "      <td>TV-MA</td>\n",
              "      <td>2 Seasons</td>\n",
              "      <td>International TV Shows, TV Dramas, TV Mysteries</td>\n",
              "      <td>After crossing paths at a party, a Cape Town t...</td>\n",
              "    </tr>\n",
              "    <tr>\n",
              "      <th>2</th>\n",
              "      <td>s3</td>\n",
              "      <td>TV Show</td>\n",
              "      <td>Ganglands</td>\n",
              "      <td>Julien Leclercq</td>\n",
              "      <td>Sami Bouajila, Tracy Gotoas, Samuel Jouy, Nabi...</td>\n",
              "      <td>NaN</td>\n",
              "      <td>September 24, 2021</td>\n",
              "      <td>2021</td>\n",
              "      <td>TV-MA</td>\n",
              "      <td>1 Season</td>\n",
              "      <td>Crime TV Shows, International TV Shows, TV Act...</td>\n",
              "      <td>To protect his family from a powerful drug lor...</td>\n",
              "    </tr>\n",
              "    <tr>\n",
              "      <th>3</th>\n",
              "      <td>s4</td>\n",
              "      <td>TV Show</td>\n",
              "      <td>Jailbirds New Orleans</td>\n",
              "      <td>NaN</td>\n",
              "      <td>NaN</td>\n",
              "      <td>NaN</td>\n",
              "      <td>September 24, 2021</td>\n",
              "      <td>2021</td>\n",
              "      <td>TV-MA</td>\n",
              "      <td>1 Season</td>\n",
              "      <td>Docuseries, Reality TV</td>\n",
              "      <td>Feuds, flirtations and toilet talk go down amo...</td>\n",
              "    </tr>\n",
              "    <tr>\n",
              "      <th>4</th>\n",
              "      <td>s5</td>\n",
              "      <td>TV Show</td>\n",
              "      <td>Kota Factory</td>\n",
              "      <td>NaN</td>\n",
              "      <td>Mayur More, Jitendra Kumar, Ranjan Raj, Alam K...</td>\n",
              "      <td>India</td>\n",
              "      <td>September 24, 2021</td>\n",
              "      <td>2021</td>\n",
              "      <td>TV-MA</td>\n",
              "      <td>2 Seasons</td>\n",
              "      <td>International TV Shows, Romantic TV Shows, TV ...</td>\n",
              "      <td>In a city of coaching centers known to train I...</td>\n",
              "    </tr>\n",
              "  </tbody>\n",
              "</table>\n",
              "</div>"
            ],
            "text/plain": [
              "  show_id  ...                                        description\n",
              "0      s1  ...  As her father nears the end of his life, filmm...\n",
              "1      s2  ...  After crossing paths at a party, a Cape Town t...\n",
              "2      s3  ...  To protect his family from a powerful drug lor...\n",
              "3      s4  ...  Feuds, flirtations and toilet talk go down amo...\n",
              "4      s5  ...  In a city of coaching centers known to train I...\n",
              "\n",
              "[5 rows x 12 columns]"
            ]
          },
          "metadata": {},
          "execution_count": 223
        }
      ],
      "source": [
        "df.head()"
      ]
    },
    {
      "cell_type": "code",
      "execution_count": null,
      "id": "225286d8",
      "metadata": {
        "colab": {
          "base_uri": "https://localhost:8080/"
        },
        "id": "225286d8",
        "outputId": "ba1faade-28dd-4810-b4e4-3304dcda75dd"
      },
      "outputs": [
        {
          "output_type": "execute_result",
          "data": {
            "text/plain": [
              "(8807, 12)"
            ]
          },
          "metadata": {},
          "execution_count": 224
        }
      ],
      "source": [
        "df.shape"
      ]
    },
    {
      "cell_type": "code",
      "source": [
        "df.columns"
      ],
      "metadata": {
        "colab": {
          "base_uri": "https://localhost:8080/"
        },
        "id": "XOe2_uSqufd9",
        "outputId": "7b70dc3b-ecff-4254-bfef-ec23ee094bdc"
      },
      "id": "XOe2_uSqufd9",
      "execution_count": null,
      "outputs": [
        {
          "output_type": "execute_result",
          "data": {
            "text/plain": [
              "Index(['show_id', 'type', 'title', 'director', 'cast', 'country', 'date_added',\n",
              "       'release_year', 'rating', 'duration', 'listed_in', 'description'],\n",
              "      dtype='object')"
            ]
          },
          "metadata": {},
          "execution_count": 225
        }
      ]
    },
    {
      "cell_type": "code",
      "execution_count": null,
      "id": "ee23e770",
      "metadata": {
        "id": "ee23e770",
        "colab": {
          "base_uri": "https://localhost:8080/",
          "height": 300
        },
        "outputId": "e964d79f-5444-405a-c114-09889f76bc25"
      },
      "outputs": [
        {
          "output_type": "execute_result",
          "data": {
            "text/html": [
              "<div>\n",
              "<style scoped>\n",
              "    .dataframe tbody tr th:only-of-type {\n",
              "        vertical-align: middle;\n",
              "    }\n",
              "\n",
              "    .dataframe tbody tr th {\n",
              "        vertical-align: top;\n",
              "    }\n",
              "\n",
              "    .dataframe thead th {\n",
              "        text-align: right;\n",
              "    }\n",
              "</style>\n",
              "<table border=\"1\" class=\"dataframe\">\n",
              "  <thead>\n",
              "    <tr style=\"text-align: right;\">\n",
              "      <th></th>\n",
              "      <th>release_year</th>\n",
              "    </tr>\n",
              "  </thead>\n",
              "  <tbody>\n",
              "    <tr>\n",
              "      <th>count</th>\n",
              "      <td>8807.000000</td>\n",
              "    </tr>\n",
              "    <tr>\n",
              "      <th>mean</th>\n",
              "      <td>2014.180198</td>\n",
              "    </tr>\n",
              "    <tr>\n",
              "      <th>std</th>\n",
              "      <td>8.819312</td>\n",
              "    </tr>\n",
              "    <tr>\n",
              "      <th>min</th>\n",
              "      <td>1925.000000</td>\n",
              "    </tr>\n",
              "    <tr>\n",
              "      <th>25%</th>\n",
              "      <td>2013.000000</td>\n",
              "    </tr>\n",
              "    <tr>\n",
              "      <th>50%</th>\n",
              "      <td>2017.000000</td>\n",
              "    </tr>\n",
              "    <tr>\n",
              "      <th>75%</th>\n",
              "      <td>2019.000000</td>\n",
              "    </tr>\n",
              "    <tr>\n",
              "      <th>max</th>\n",
              "      <td>2021.000000</td>\n",
              "    </tr>\n",
              "  </tbody>\n",
              "</table>\n",
              "</div>"
            ],
            "text/plain": [
              "       release_year\n",
              "count   8807.000000\n",
              "mean    2014.180198\n",
              "std        8.819312\n",
              "min     1925.000000\n",
              "25%     2013.000000\n",
              "50%     2017.000000\n",
              "75%     2019.000000\n",
              "max     2021.000000"
            ]
          },
          "metadata": {},
          "execution_count": 226
        }
      ],
      "source": [
        " df.describe()"
      ]
    },
    {
      "cell_type": "code",
      "execution_count": null,
      "id": "1152fcc7",
      "metadata": {
        "scrolled": true,
        "colab": {
          "base_uri": "https://localhost:8080/"
        },
        "id": "1152fcc7",
        "outputId": "bc7a1703-5807-49f4-d05e-8338f43b8eea"
      },
      "outputs": [
        {
          "output_type": "stream",
          "name": "stdout",
          "text": [
            "<class 'pandas.core.frame.DataFrame'>\n",
            "RangeIndex: 8807 entries, 0 to 8806\n",
            "Data columns (total 12 columns):\n",
            " #   Column        Non-Null Count  Dtype \n",
            "---  ------        --------------  ----- \n",
            " 0   show_id       8807 non-null   object\n",
            " 1   type          8807 non-null   object\n",
            " 2   title         8807 non-null   object\n",
            " 3   director      6173 non-null   object\n",
            " 4   cast          7982 non-null   object\n",
            " 5   country       7976 non-null   object\n",
            " 6   date_added    8797 non-null   object\n",
            " 7   release_year  8807 non-null   int64 \n",
            " 8   rating        8803 non-null   object\n",
            " 9   duration      8804 non-null   object\n",
            " 10  listed_in     8807 non-null   object\n",
            " 11  description   8807 non-null   object\n",
            "dtypes: int64(1), object(11)\n",
            "memory usage: 825.8+ KB\n"
          ]
        }
      ],
      "source": [
        "df.info() "
      ]
    },
    {
      "cell_type": "markdown",
      "id": "eab0aeff",
      "metadata": {
        "id": "eab0aeff"
      },
      "source": [
        "# count the missing data in each row "
      ]
    },
    {
      "cell_type": "code",
      "execution_count": null,
      "id": "35664fc5",
      "metadata": {
        "colab": {
          "base_uri": "https://localhost:8080/"
        },
        "id": "35664fc5",
        "outputId": "f95365e8-5059-41fd-a403-4592fc6f1098"
      },
      "outputs": [
        {
          "output_type": "execute_result",
          "data": {
            "text/plain": [
              "show_id            0\n",
              "type               0\n",
              "title              0\n",
              "director        2634\n",
              "cast             825\n",
              "country          831\n",
              "date_added        10\n",
              "release_year       0\n",
              "rating             4\n",
              "duration           3\n",
              "listed_in          0\n",
              "description        0\n",
              "dtype: int64"
            ]
          },
          "metadata": {},
          "execution_count": 228
        }
      ],
      "source": [
        "df.isnull().sum()"
      ]
    },
    {
      "cell_type": "code",
      "execution_count": null,
      "id": "c82f1901",
      "metadata": {
        "id": "c82f1901"
      },
      "outputs": [],
      "source": [
        "df.country.fillna('other', inplace=True)"
      ]
    },
    {
      "cell_type": "code",
      "execution_count": null,
      "id": "96ffb7fc",
      "metadata": {
        "id": "96ffb7fc"
      },
      "outputs": [],
      "source": [
        "df.director.fillna('missing data', inplace=True)"
      ]
    },
    {
      "cell_type": "code",
      "execution_count": null,
      "id": "bd30b89f",
      "metadata": {
        "id": "bd30b89f"
      },
      "outputs": [],
      "source": [
        "df.cast.fillna('missing data', inplace=True)"
      ]
    },
    {
      "cell_type": "code",
      "execution_count": null,
      "id": "4349486c",
      "metadata": {
        "id": "4349486c"
      },
      "outputs": [],
      "source": [
        "#duration\n",
        "#df.duration.fillna('other', inplace=True)"
      ]
    },
    {
      "cell_type": "code",
      "execution_count": null,
      "id": "522f3147",
      "metadata": {
        "id": "522f3147"
      },
      "outputs": [],
      "source": [
        "df.dropna(subset=['date_added'], inplace = True)\n",
        "df.dropna(subset=['rating'], inplace = True)\n",
        "df.dropna(subset=['duration'], inplace = True)"
      ]
    },
    {
      "cell_type": "code",
      "execution_count": null,
      "id": "487a73f5",
      "metadata": {
        "colab": {
          "base_uri": "https://localhost:8080/"
        },
        "id": "487a73f5",
        "outputId": "fa4cfe89-6241-48c0-afbc-7cc4e562bbac"
      },
      "outputs": [
        {
          "output_type": "execute_result",
          "data": {
            "text/plain": [
              "show_id         0\n",
              "type            0\n",
              "title           0\n",
              "director        0\n",
              "cast            0\n",
              "country         0\n",
              "date_added      0\n",
              "release_year    0\n",
              "rating          0\n",
              "duration        0\n",
              "listed_in       0\n",
              "description     0\n",
              "dtype: int64"
            ]
          },
          "metadata": {},
          "execution_count": 234
        }
      ],
      "source": [
        "df.isnull().sum()"
      ]
    },
    {
      "cell_type": "code",
      "execution_count": null,
      "id": "e753dfbe",
      "metadata": {
        "colab": {
          "base_uri": "https://localhost:8080/"
        },
        "id": "e753dfbe",
        "outputId": "2200cb38-f8e4-4dcc-9bcb-4bf92c94259b"
      },
      "outputs": [
        {
          "output_type": "execute_result",
          "data": {
            "text/plain": [
              "show_id         0\n",
              "type            0\n",
              "title           0\n",
              "director        0\n",
              "cast            0\n",
              "country         0\n",
              "date_added      0\n",
              "release_year    0\n",
              "rating          0\n",
              "duration        0\n",
              "listed_in       0\n",
              "description     0\n",
              "dtype: int64"
            ]
          },
          "metadata": {},
          "execution_count": 235
        }
      ],
      "source": [
        "df.dropna(subset=['date_added'], inplace = True)\n",
        "df.dropna(subset=['rating'], inplace = True)\n",
        "df.isna().sum()"
      ]
    },
    {
      "cell_type": "code",
      "source": [
        "df['date_added']"
      ],
      "metadata": {
        "colab": {
          "base_uri": "https://localhost:8080/"
        },
        "id": "P-K2Iq85qw4i",
        "outputId": "8e62e264-7fb0-4b78-ab34-b9e0bbeab78b"
      },
      "id": "P-K2Iq85qw4i",
      "execution_count": null,
      "outputs": [
        {
          "output_type": "execute_result",
          "data": {
            "text/plain": [
              "0       September 25, 2021\n",
              "1       September 24, 2021\n",
              "2       September 24, 2021\n",
              "3       September 24, 2021\n",
              "4       September 24, 2021\n",
              "               ...        \n",
              "8802     November 20, 2019\n",
              "8803          July 1, 2019\n",
              "8804      November 1, 2019\n",
              "8805      January 11, 2020\n",
              "8806         March 2, 2019\n",
              "Name: date_added, Length: 8790, dtype: object"
            ]
          },
          "metadata": {},
          "execution_count": 236
        }
      ]
    },
    {
      "cell_type": "code",
      "source": [
        "df['date_added'] = pd.to_datetime(df['date_added'].str.strip(), format = \"%B %d, %Y\")"
      ],
      "metadata": {
        "id": "7m42xx2Es4Yv"
      },
      "id": "7m42xx2Es4Yv",
      "execution_count": null,
      "outputs": []
    },
    {
      "cell_type": "code",
      "source": [
        "df['year_added']=df['date_added'].dt.year\n",
        "df['month_added']=df['date_added'].dt.month\n",
        "df['month_add_name'] = df['date_added'].dt.month_name()\n",
        "#"
      ],
      "metadata": {
        "id": "F4ArvFw7xjN8"
      },
      "id": "F4ArvFw7xjN8",
      "execution_count": null,
      "outputs": []
    },
    {
      "cell_type": "code",
      "source": [
        "df.drop(['date_added'], axis = 1,inplace = True)\n"
      ],
      "metadata": {
        "id": "lOtUPnNIgVaK"
      },
      "id": "lOtUPnNIgVaK",
      "execution_count": null,
      "outputs": []
    },
    {
      "cell_type": "markdown",
      "source": [
        ""
      ],
      "metadata": {
        "id": "sH0ykIZls-Bu"
      },
      "id": "sH0ykIZls-Bu"
    },
    {
      "cell_type": "code",
      "source": [
        "df.head()"
      ],
      "metadata": {
        "colab": {
          "base_uri": "https://localhost:8080/",
          "height": 643
        },
        "id": "SM4F3B8Wxwf8",
        "outputId": "e18c97d2-3dda-4cb0-d29a-48ca12ea87a1"
      },
      "id": "SM4F3B8Wxwf8",
      "execution_count": null,
      "outputs": [
        {
          "output_type": "execute_result",
          "data": {
            "text/html": [
              "<div>\n",
              "<style scoped>\n",
              "    .dataframe tbody tr th:only-of-type {\n",
              "        vertical-align: middle;\n",
              "    }\n",
              "\n",
              "    .dataframe tbody tr th {\n",
              "        vertical-align: top;\n",
              "    }\n",
              "\n",
              "    .dataframe thead th {\n",
              "        text-align: right;\n",
              "    }\n",
              "</style>\n",
              "<table border=\"1\" class=\"dataframe\">\n",
              "  <thead>\n",
              "    <tr style=\"text-align: right;\">\n",
              "      <th></th>\n",
              "      <th>show_id</th>\n",
              "      <th>type</th>\n",
              "      <th>title</th>\n",
              "      <th>director</th>\n",
              "      <th>cast</th>\n",
              "      <th>country</th>\n",
              "      <th>release_year</th>\n",
              "      <th>rating</th>\n",
              "      <th>duration</th>\n",
              "      <th>listed_in</th>\n",
              "      <th>description</th>\n",
              "      <th>year_added</th>\n",
              "      <th>month_added</th>\n",
              "      <th>month_add_name</th>\n",
              "    </tr>\n",
              "  </thead>\n",
              "  <tbody>\n",
              "    <tr>\n",
              "      <th>0</th>\n",
              "      <td>s1</td>\n",
              "      <td>Movie</td>\n",
              "      <td>Dick Johnson Is Dead</td>\n",
              "      <td>Kirsten Johnson</td>\n",
              "      <td>missing data</td>\n",
              "      <td>United States</td>\n",
              "      <td>2020</td>\n",
              "      <td>PG-13</td>\n",
              "      <td>90 min</td>\n",
              "      <td>Documentaries</td>\n",
              "      <td>As her father nears the end of his life, filmm...</td>\n",
              "      <td>2021</td>\n",
              "      <td>9</td>\n",
              "      <td>September</td>\n",
              "    </tr>\n",
              "    <tr>\n",
              "      <th>1</th>\n",
              "      <td>s2</td>\n",
              "      <td>TV Show</td>\n",
              "      <td>Blood &amp; Water</td>\n",
              "      <td>missing data</td>\n",
              "      <td>Ama Qamata, Khosi Ngema, Gail Mabalane, Thaban...</td>\n",
              "      <td>South Africa</td>\n",
              "      <td>2021</td>\n",
              "      <td>TV-MA</td>\n",
              "      <td>2 Seasons</td>\n",
              "      <td>International TV Shows, TV Dramas, TV Mysteries</td>\n",
              "      <td>After crossing paths at a party, a Cape Town t...</td>\n",
              "      <td>2021</td>\n",
              "      <td>9</td>\n",
              "      <td>September</td>\n",
              "    </tr>\n",
              "    <tr>\n",
              "      <th>2</th>\n",
              "      <td>s3</td>\n",
              "      <td>TV Show</td>\n",
              "      <td>Ganglands</td>\n",
              "      <td>Julien Leclercq</td>\n",
              "      <td>Sami Bouajila, Tracy Gotoas, Samuel Jouy, Nabi...</td>\n",
              "      <td>other</td>\n",
              "      <td>2021</td>\n",
              "      <td>TV-MA</td>\n",
              "      <td>1 Season</td>\n",
              "      <td>Crime TV Shows, International TV Shows, TV Act...</td>\n",
              "      <td>To protect his family from a powerful drug lor...</td>\n",
              "      <td>2021</td>\n",
              "      <td>9</td>\n",
              "      <td>September</td>\n",
              "    </tr>\n",
              "    <tr>\n",
              "      <th>3</th>\n",
              "      <td>s4</td>\n",
              "      <td>TV Show</td>\n",
              "      <td>Jailbirds New Orleans</td>\n",
              "      <td>missing data</td>\n",
              "      <td>missing data</td>\n",
              "      <td>other</td>\n",
              "      <td>2021</td>\n",
              "      <td>TV-MA</td>\n",
              "      <td>1 Season</td>\n",
              "      <td>Docuseries, Reality TV</td>\n",
              "      <td>Feuds, flirtations and toilet talk go down amo...</td>\n",
              "      <td>2021</td>\n",
              "      <td>9</td>\n",
              "      <td>September</td>\n",
              "    </tr>\n",
              "    <tr>\n",
              "      <th>4</th>\n",
              "      <td>s5</td>\n",
              "      <td>TV Show</td>\n",
              "      <td>Kota Factory</td>\n",
              "      <td>missing data</td>\n",
              "      <td>Mayur More, Jitendra Kumar, Ranjan Raj, Alam K...</td>\n",
              "      <td>India</td>\n",
              "      <td>2021</td>\n",
              "      <td>TV-MA</td>\n",
              "      <td>2 Seasons</td>\n",
              "      <td>International TV Shows, Romantic TV Shows, TV ...</td>\n",
              "      <td>In a city of coaching centers known to train I...</td>\n",
              "      <td>2021</td>\n",
              "      <td>9</td>\n",
              "      <td>September</td>\n",
              "    </tr>\n",
              "  </tbody>\n",
              "</table>\n",
              "</div>"
            ],
            "text/plain": [
              "  show_id     type  ... month_added month_add_name\n",
              "0      s1    Movie  ...           9      September\n",
              "1      s2  TV Show  ...           9      September\n",
              "2      s3  TV Show  ...           9      September\n",
              "3      s4  TV Show  ...           9      September\n",
              "4      s5  TV Show  ...           9      September\n",
              "\n",
              "[5 rows x 14 columns]"
            ]
          },
          "metadata": {},
          "execution_count": 240
        }
      ]
    },
    {
      "cell_type": "code",
      "source": [
        "df['month_add_name'] "
      ],
      "metadata": {
        "colab": {
          "base_uri": "https://localhost:8080/"
        },
        "id": "BDNwJ-2qyFh_",
        "outputId": "aae08219-411c-4ed0-f5cd-8b48063765a4"
      },
      "id": "BDNwJ-2qyFh_",
      "execution_count": null,
      "outputs": [
        {
          "output_type": "execute_result",
          "data": {
            "text/plain": [
              "0       September\n",
              "1       September\n",
              "2       September\n",
              "3       September\n",
              "4       September\n",
              "          ...    \n",
              "8802     November\n",
              "8803         July\n",
              "8804     November\n",
              "8805      January\n",
              "8806        March\n",
              "Name: month_add_name, Length: 8790, dtype: object"
            ]
          },
          "metadata": {},
          "execution_count": 241
        }
      ]
    },
    {
      "cell_type": "code",
      "execution_count": null,
      "id": "c8abec33",
      "metadata": {
        "id": "c8abec33"
      },
      "outputs": [],
      "source": [
        "##base on this plot the movie type is more in netflix "
      ]
    },
    {
      "cell_type": "markdown",
      "source": [
        "**Visualization **"
      ],
      "metadata": {
        "id": "CdmrOPc8qzI8"
      },
      "id": "CdmrOPc8qzI8"
    },
    {
      "cell_type": "code",
      "execution_count": null,
      "id": "e9eb449e",
      "metadata": {
        "colab": {
          "base_uri": "https://localhost:8080/",
          "height": 279
        },
        "id": "e9eb449e",
        "outputId": "cba930f6-f0ab-4655-93f9-705c49f0827f"
      },
      "outputs": [
        {
          "output_type": "display_data",
          "data": {
            "image/png": "[encoded data removed]",
            "text/plain": [
              "<Figure size 432x288 with 1 Axes>"
            ]
          },
          "metadata": {
            "needs_background": "light"
          }
        }
      ],
      "source": [
        "sns.countplot(x ='type', data = df)\n",
        " \n",
        "plt.show()\n"
      ]
    },
    {
      "cell_type": "code",
      "execution_count": null,
      "id": "67c46427",
      "metadata": {
        "colab": {
          "base_uri": "https://localhost:8080/",
          "height": 279
        },
        "id": "67c46427",
        "outputId": "a5f325b4-1625-41e5-a5c7-1c0844db9811"
      },
      "outputs": [
        {
          "output_type": "display_data",
          "data": {
            "image/png": "[encoded data removed]",
            "text/plain": [
              "<Figure size 432x288 with 1 Axes>"
            ]
          },
          "metadata": {
            "needs_background": "light"
          }
        }
      ],
      "source": [
        "##base on this plot the rate TV_MA is more in netflix \n",
        "ratings = df['rating'].value_counts()\n",
        "sns.barplot(x= ratings, y= ratings.index);\n",
        "plt.ylabel('rating');\n",
        "plt.xlabel ('number of movies');"
      ]
    },
    {
      "cell_type": "code",
      "execution_count": null,
      "id": "65753b92",
      "metadata": {
        "scrolled": false,
        "id": "65753b92",
        "outputId": "3518c75e-b719-4083-edcb-934ba4313586",
        "colab": {
          "base_uri": "https://localhost:8080/",
          "height": 283
        }
      },
      "outputs": [
        {
          "output_type": "execute_result",
          "data": {
            "text/plain": [
              "<matplotlib.axes._subplots.AxesSubplot at 0x7fa6066aa210>"
            ]
          },
          "metadata": {},
          "execution_count": 245
        },
        {
          "output_type": "display_data",
          "data": {
            "image/png": "[encoded data removed]",
            "text/plain": [
              "<Figure size 432x288 with 1 Axes>"
            ]
          },
          "metadata": {
            "needs_background": "light"
          }
        }
      ],
      "source": [
        "## base on this plot 2019 has the most number of  Movie and TV_show released  in netflix \n",
        "df[\"release_year\"].hist(bins=50)"
      ]
    },
    {
      "cell_type": "code",
      "execution_count": null,
      "id": "2d65c3c7",
      "metadata": {
        "id": "2d65c3c7",
        "outputId": "51da65d4-073f-4212-b8a3-5e2520e10ac4",
        "colab": {
          "base_uri": "https://localhost:8080/",
          "height": 353
        }
      },
      "outputs": [
        {
          "output_type": "execute_result",
          "data": {
            "text/plain": [
              "<matplotlib.axes._subplots.AxesSubplot at 0x7fa60619c690>"
            ]
          },
          "metadata": {},
          "execution_count": 246
        },
        {
          "output_type": "display_data",
          "data": {
            "image/png": "[encoded data removed]",
            "text/plain": [
              "<Figure size 432x288 with 1 Axes>"
            ]
          },
          "metadata": {
            "needs_background": "light"
          }
        }
      ],
      "source": [
        "## base on this plot the Most Movies and TV shows are from United States\n",
        "\n",
        "df[\"country\"].value_counts()[:15].plot(kind=\"bar\")"
      ]
    },
    {
      "cell_type": "code",
      "source": [
        "df[\"month_added\"].value_counts()[:15].plot(kind=\"bar\")"
      ],
      "metadata": {
        "colab": {
          "base_uri": "https://localhost:8080/",
          "height": 285
        },
        "id": "EeRx0F1avYOR",
        "outputId": "8767f26d-fa06-4852-e209-73a43f7c9bda"
      },
      "id": "EeRx0F1avYOR",
      "execution_count": null,
      "outputs": [
        {
          "output_type": "execute_result",
          "data": {
            "text/plain": [
              "<matplotlib.axes._subplots.AxesSubplot at 0x7fa605d95390>"
            ]
          },
          "metadata": {},
          "execution_count": 247
        },
        {
          "output_type": "display_data",
          "data": {
            "image/png": "[encoded data removed]",
            "text/plain": [
              "<Figure size 432x288 with 1 Axes>"
            ]
          },
          "metadata": {
            "needs_background": "light"
          }
        }
      ]
    },
    {
      "cell_type": "code",
      "source": [
        "#add some space \n",
        "sns.countplot(x ='year_added', data = df)\n",
        " \n",
        "plt.show()"
      ],
      "metadata": {
        "colab": {
          "base_uri": "https://localhost:8080/",
          "height": 280
        },
        "id": "RtZ34p3yv4gT",
        "outputId": "17349e63-ff5d-4c3b-a3e8-8ba956d04cbb"
      },
      "id": "RtZ34p3yv4gT",
      "execution_count": null,
      "outputs": [
        {
          "output_type": "display_data",
          "data": {
            "image/png": "[encoded data removed]",
            "text/plain": [
              "<Figure size 432x288 with 1 Axes>"
            ]
          },
          "metadata": {
            "needs_background": "light"
          }
        }
      ]
    },
    {
      "cell_type": "code",
      "source": [
        "#groped be year\n",
        "\n",
        "sns.countplot(x ='month_added', data = df)\n",
        " \n",
        "plt.show()"
      ],
      "metadata": {
        "colab": {
          "base_uri": "https://localhost:8080/",
          "height": 280
        },
        "id": "PU-sZgApwSQy",
        "outputId": "558d7ef5-ea71-4907-f5d5-a1c9ffc41b16"
      },
      "id": "PU-sZgApwSQy",
      "execution_count": null,
      "outputs": [
        {
          "output_type": "display_data",
          "data": {
            "image/png": "[encoded data removed]",
            "text/plain": [
              "<Figure size 432x288 with 1 Axes>"
            ]
          },
          "metadata": {
            "needs_background": "light"
          }
        }
      ]
    },
    {
      "cell_type": "code",
      "execution_count": null,
      "id": "7dda0c86",
      "metadata": {
        "id": "7dda0c86"
      },
      "outputs": [],
      "source": [
        "from sklearn.model_selection import train_test_split\n",
        "from sklearn.feature_extraction.text import TfidfVectorizer"
      ]
    },
    {
      "cell_type": "code",
      "source": [
        "df['description']"
      ],
      "metadata": {
        "colab": {
          "base_uri": "https://localhost:8080/"
        },
        "id": "a8nO5TuWmNZ_",
        "outputId": "acd0c47e-12ef-49c7-8f24-55c044e90bc8"
      },
      "id": "a8nO5TuWmNZ_",
      "execution_count": null,
      "outputs": [
        {
          "output_type": "execute_result",
          "data": {
            "text/plain": [
              "0       As her father nears the end of his life, filmm...\n",
              "1       After crossing paths at a party, a Cape Town t...\n",
              "2       To protect his family from a powerful drug lor...\n",
              "3       Feuds, flirtations and toilet talk go down amo...\n",
              "4       In a city of coaching centers known to train I...\n",
              "                              ...                        \n",
              "8802    A political cartoonist, a crime reporter and a...\n",
              "8803    While living alone in a spooky town, a young g...\n",
              "8804    Looking to survive in a world taken over by zo...\n",
              "8805    Dragged from civilian life, a former superhero...\n",
              "8806    A scrappy but poor boy worms his way into a ty...\n",
              "Name: description, Length: 8790, dtype: object"
            ]
          },
          "metadata": {},
          "execution_count": 251
        }
      ]
    },
    {
      "cell_type": "code",
      "execution_count": null,
      "id": "12e98c44",
      "metadata": {
        "id": "12e98c44",
        "colab": {
          "base_uri": "https://localhost:8080/"
        },
        "outputId": "1ba6b9b0-61b3-4bb5-82f7-0e18c2fd309b"
      },
      "outputs": [
        {
          "output_type": "execute_result",
          "data": {
            "text/plain": [
              "(8790, 18878)"
            ]
          },
          "metadata": {},
          "execution_count": 252
        }
      ],
      "source": [
        "\n",
        "\n",
        "# Remove all english stop words such as 'the', 'a'\n",
        "tfidf = TfidfVectorizer(stop_words='english')\n",
        "\n",
        "#Construct the required TF-IDF matrix by fitting and transforming the data\n",
        "tfidf_matrix = tfidf.fit_transform(df['description'])\n",
        "\n",
        "#Output the shape of tfidf_matrix\n",
        "tfidf_matrix.shape\n"
      ]
    },
    {
      "cell_type": "code",
      "execution_count": null,
      "id": "408d2002",
      "metadata": {
        "id": "408d2002"
      },
      "outputs": [],
      "source": [
        "# Import linear_kernel\n",
        "from sklearn.metrics.pairwise import linear_kernel\n",
        "\n",
        "# Compute the cosine similarity matrix\n",
        "cosine_sim = linear_kernel(tfidf_matrix, tfidf_matrix)"
      ]
    },
    {
      "cell_type": "code",
      "source": [
        "indices = pd.Series(df.index, index=df['title']).drop_duplicates()"
      ],
      "metadata": {
        "id": "bgRnWPRBoNxR"
      },
      "id": "bgRnWPRBoNxR",
      "execution_count": null,
      "outputs": []
    },
    {
      "cell_type": "code",
      "execution_count": null,
      "id": "60ab08de",
      "metadata": {
        "id": "60ab08de"
      },
      "outputs": [],
      "source": [
        "def get_recommendations(title, cosine_sim=cosine_sim):\n",
        "    # Get the index of the movie \n",
        "    idx = indices[title]\n",
        "\n",
        "    # Get the pairwsie similarity scores of all movies \n",
        "    sim_scores = list(enumerate(cosine_sim[idx]))\n",
        "        \n",
        "    # Sort the movies based on the similarity scores\n",
        "    sim_scores = sorted(sim_scores, key=lambda x: x[1], reverse=True)\n",
        "\n",
        "    # Get the scores of the 10 most similar movies\n",
        "    sim_scores = sim_scores[1:11]\n",
        "\n",
        "    # Get the movie indices\n",
        "    movie_indices = [i[0] for i in sim_scores]\n",
        "\n",
        "    # Return the top 10 most similar movies\n",
        "    return df['title'].iloc[movie_indices]"
      ]
    },
    {
      "cell_type": "code",
      "source": [
        "get_recommendations('Blood & Water')"
      ],
      "metadata": {
        "colab": {
          "base_uri": "https://localhost:8080/"
        },
        "id": "VA-j_XRyotuY",
        "outputId": "76778237-3a42-46fc-dea1-ce269b93b55b"
      },
      "id": "VA-j_XRyotuY",
      "execution_count": null,
      "outputs": [
        {
          "output_type": "execute_result",
          "data": {
            "text/plain": [
              "5344    Message from the King\n",
              "1884      Walk Away from Love\n",
              "4285                    Lilli\n",
              "4271               Lion Pride\n",
              "4209               Next Enti?\n",
              "613                 Voiceless\n",
              "108                 Dive Club\n",
              "1905             Cold Harbour\n",
              "6289                  Bewafaa\n",
              "5485                Ram Jaane\n",
              "Name: title, dtype: object"
            ]
          },
          "metadata": {},
          "execution_count": 256
        }
      ]
    },
    {
      "cell_type": "code",
      "source": [
        "\n",
        "get_recommendations('Mortel')"
      ],
      "metadata": {
        "colab": {
          "base_uri": "https://localhost:8080/"
        },
        "id": "Ce6gHKcetOM0",
        "outputId": "6482d73c-c0c7-4753-b465-c2ec49341c61"
      },
      "id": "Ce6gHKcetOM0",
      "execution_count": null,
      "outputs": [
        {
          "output_type": "execute_result",
          "data": {
            "text/plain": [
              "256                       Nneka The Pretty Serpent\n",
              "3674                  PILI Fantasy: War of Dragons\n",
              "800                                Mosquita y Mari\n",
              "6749                             Figures of Speech\n",
              "4511         Edgar Rice Burroughs' Tarzan and Jane\n",
              "7535    My Entire High School Sinking Into the Sea\n",
              "6760                                     FirstBorn\n",
              "4918                                 Psychokinesis\n",
              "5481                                     Chamatkar\n",
              "2190                          The Umbrella Academy\n",
              "Name: title, dtype: object"
            ]
          },
          "metadata": {},
          "execution_count": 257
        }
      ]
    },
    {
      "cell_type": "markdown",
      "source": [
        "# **recommendation system  with more fueater** \n",
        "\n",
        "\n",
        "\n"
      ],
      "metadata": {
        "id": "gyUQrlKOqENa"
      },
      "id": "gyUQrlKOqENa"
    },
    {
      "cell_type": "code",
      "source": [
        "df2=df"
      ],
      "metadata": {
        "id": "ZSu8W9UBvffQ"
      },
      "id": "ZSu8W9UBvffQ",
      "execution_count": null,
      "outputs": []
    },
    {
      "cell_type": "markdown",
      "source": [
        "show_id', 'type', 'title', 'director', 'cast', 'country',\n",
        "       'release_year', 'rating', 'duration', 'listed_in', 'description',\n",
        "       'year_added', 'month_added', 'month_add_name'],\n",
        "      dtype='object'"
      ],
      "metadata": {
        "id": "7g7Nn_PW5VM4"
      },
      "id": "7g7Nn_PW5VM4"
    },
    {
      "cell_type": "code",
      "source": [
        "df2[['title', 'cast', 'director', 'description', 'listed_in']].head(5)"
      ],
      "metadata": {
        "colab": {
          "base_uri": "https://localhost:8080/",
          "height": 293
        },
        "id": "5E0bbUQW6sH-",
        "outputId": "8d71ebc6-a9ad-4c6f-b652-1bade47e7bc6"
      },
      "id": "5E0bbUQW6sH-",
      "execution_count": null,
      "outputs": [
        {
          "output_type": "execute_result",
          "data": {
            "text/html": [
              "<div>\n",
              "<style scoped>\n",
              "    .dataframe tbody tr th:only-of-type {\n",
              "        vertical-align: middle;\n",
              "    }\n",
              "\n",
              "    .dataframe tbody tr th {\n",
              "        vertical-align: top;\n",
              "    }\n",
              "\n",
              "    .dataframe thead th {\n",
              "        text-align: right;\n",
              "    }\n",
              "</style>\n",
              "<table border=\"1\" class=\"dataframe\">\n",
              "  <thead>\n",
              "    <tr style=\"text-align: right;\">\n",
              "      <th></th>\n",
              "      <th>title</th>\n",
              "      <th>cast</th>\n",
              "      <th>director</th>\n",
              "      <th>description</th>\n",
              "      <th>listed_in</th>\n",
              "    </tr>\n",
              "  </thead>\n",
              "  <tbody>\n",
              "    <tr>\n",
              "      <th>0</th>\n",
              "      <td>Dick Johnson Is Dead</td>\n",
              "      <td>missing data</td>\n",
              "      <td>Kirsten Johnson</td>\n",
              "      <td>As her father nears the end of his life, filmm...</td>\n",
              "      <td>Documentaries</td>\n",
              "    </tr>\n",
              "    <tr>\n",
              "      <th>1</th>\n",
              "      <td>Blood &amp; Water</td>\n",
              "      <td>Ama Qamata, Khosi Ngema, Gail Mabalane, Thaban...</td>\n",
              "      <td>missing data</td>\n",
              "      <td>After crossing paths at a party, a Cape Town t...</td>\n",
              "      <td>International TV Shows, TV Dramas, TV Mysteries</td>\n",
              "    </tr>\n",
              "    <tr>\n",
              "      <th>2</th>\n",
              "      <td>Ganglands</td>\n",
              "      <td>Sami Bouajila, Tracy Gotoas, Samuel Jouy, Nabi...</td>\n",
              "      <td>Julien Leclercq</td>\n",
              "      <td>To protect his family from a powerful drug lor...</td>\n",
              "      <td>Crime TV Shows, International TV Shows, TV Act...</td>\n",
              "    </tr>\n",
              "    <tr>\n",
              "      <th>3</th>\n",
              "      <td>Jailbirds New Orleans</td>\n",
              "      <td>missing data</td>\n",
              "      <td>missing data</td>\n",
              "      <td>Feuds, flirtations and toilet talk go down amo...</td>\n",
              "      <td>Docuseries, Reality TV</td>\n",
              "    </tr>\n",
              "    <tr>\n",
              "      <th>4</th>\n",
              "      <td>Kota Factory</td>\n",
              "      <td>Mayur More, Jitendra Kumar, Ranjan Raj, Alam K...</td>\n",
              "      <td>missing data</td>\n",
              "      <td>In a city of coaching centers known to train I...</td>\n",
              "      <td>International TV Shows, Romantic TV Shows, TV ...</td>\n",
              "    </tr>\n",
              "  </tbody>\n",
              "</table>\n",
              "</div>"
            ],
            "text/plain": [
              "                   title  ...                                          listed_in\n",
              "0   Dick Johnson Is Dead  ...                                      Documentaries\n",
              "1          Blood & Water  ...    International TV Shows, TV Dramas, TV Mysteries\n",
              "2              Ganglands  ...  Crime TV Shows, International TV Shows, TV Act...\n",
              "3  Jailbirds New Orleans  ...                             Docuseries, Reality TV\n",
              "4           Kota Factory  ...  International TV Shows, Romantic TV Shows, TV ...\n",
              "\n",
              "[5 rows x 5 columns]"
            ]
          },
          "metadata": {},
          "execution_count": 259
        }
      ]
    },
    {
      "cell_type": "code",
      "source": [
        "#f=df2['title']+' '+df2['director'] + ' ' + df2['cast'] + ' ' +df2['listed_in']+' '+ df2['description']"
      ],
      "metadata": {
        "id": "o6ixigcr5LEy"
      },
      "id": "o6ixigcr5LEy",
      "execution_count": null,
      "outputs": []
    },
    {
      "cell_type": "code",
      "source": [
        "def clean_data(x):\n",
        "    if isinstance(x, list):\n",
        "        return [str.lower(i.replace(\" \", \"\")) for i in x]\n",
        "    else:\n",
        "        #Check if director exists. If not, return empty string\n",
        "        if isinstance(x, str):\n",
        "            return str.lower(x.replace(\" \", \"\"))\n",
        "        else:\n",
        "            return ''"
      ],
      "metadata": {
        "id": "-b5w1N_B6iuL"
      },
      "id": "-b5w1N_B6iuL",
      "execution_count": null,
      "outputs": []
    },
    {
      "cell_type": "code",
      "source": [
        "features = ['cast', 'director', 'description', 'listed_in']\n",
        "\n",
        "for feature in features:\n",
        "    df2[feature] = df2[feature].apply(clean_data)"
      ],
      "metadata": {
        "id": "PtstTlWC_ge2"
      },
      "id": "PtstTlWC_ge2",
      "execution_count": null,
      "outputs": []
    },
    {
      "cell_type": "code",
      "source": [
        "\n",
        "def create_soup(x):\n",
        "    return x['title']+ ' ' + x['director'] + ' ' + x['cast'] + ' ' +x['listed_in']+' '+ x['description']\n",
        "\n",
        "df2['soup'] = df2.apply(create_soup, axis=1)\n"
      ],
      "metadata": {
        "id": "DNRiXWlnADpN"
      },
      "id": "DNRiXWlnADpN",
      "execution_count": null,
      "outputs": []
    },
    {
      "cell_type": "code",
      "source": [
        "from sklearn.feature_extraction.text import CountVectorizer\n",
        "\n",
        "count = CountVectorizer(stop_words='english')\n",
        "count_matrix = count.fit_transform(df2['soup'])\n",
        "\n"
      ],
      "metadata": {
        "id": "JWtgocJZDAUo"
      },
      "id": "JWtgocJZDAUo",
      "execution_count": null,
      "outputs": []
    },
    {
      "cell_type": "code",
      "source": [
        "#from sklearn.feature_extraction.text import CountVectorizer\n",
        "#cv = CountVectorizer(max_features=10000, ngram_range=(1,2))\n",
        "#X = cv.fit_transform(df2['soup']).toarray()\n",
        "\n",
        "#count = CountVectorizer(stop_words='english')\n",
        "#count_matrix = count.fit_transform(df2['soup'])"
      ],
      "metadata": {
        "id": "AL7vurgJJUfm"
      },
      "id": "AL7vurgJJUfm",
      "execution_count": null,
      "outputs": []
    },
    {
      "cell_type": "code",
      "source": [
        ""
      ],
      "metadata": {
        "id": "fZo283soJulX"
      },
      "id": "fZo283soJulX",
      "execution_count": null,
      "outputs": []
    },
    {
      "cell_type": "code",
      "source": [
        "from sklearn.metrics.pairwise import cosine_similarity\n",
        "\n",
        "cosine_sim2 = cosine_similarity(count_matrix, count_matrix)"
      ],
      "metadata": {
        "id": "NOLIADbxDKzz"
      },
      "id": "NOLIADbxDKzz",
      "execution_count": null,
      "outputs": []
    },
    {
      "cell_type": "code",
      "source": [
        "df2 = df2.reset_index()\n",
        "indices = pd.Series(df2.index, index=df2['title'])"
      ],
      "metadata": {
        "id": "hki5I_k7DOoH"
      },
      "id": "hki5I_k7DOoH",
      "execution_count": null,
      "outputs": []
    },
    {
      "cell_type": "code",
      "source": [
        "get_recommendations('Peaky Blinders', cosine_sim2)"
      ],
      "metadata": {
        "colab": {
          "base_uri": "https://localhost:8080/"
        },
        "id": "hXGoODLaDVoe",
        "outputId": "4e0465db-21bb-422a-a869-548fb17049f9"
      },
      "id": "hXGoODLaDVoe",
      "execution_count": null,
      "outputs": [
        {
          "output_type": "execute_result",
          "data": {
            "text/plain": [
              "8431          The Murder Detectives\n",
              "3034                    Giri / Haji\n",
              "519                   I AM A KILLER\n",
              "5032    The Frankenstein Chronicles\n",
              "4951                         Loaded\n",
              "3789                 Killer Ratings\n",
              "4809                  Kiss Me First\n",
              "366                         Glow Up\n",
              "1603                   Alien Worlds\n",
              "2184                       Get Even\n",
              "Name: title, dtype: object"
            ]
          },
          "metadata": {},
          "execution_count": 268
        }
      ]
    },
    {
      "cell_type": "code",
      "source": [
        "get_recommendations('Peaky Blinders', cosine_sim2)"
      ],
      "metadata": {
        "colab": {
          "base_uri": "https://localhost:8080/"
        },
        "id": "b4MNlCxyDiDB",
        "outputId": "4d02f2fa-ac55-42a9-a467-dcf32240dfdb"
      },
      "id": "b4MNlCxyDiDB",
      "execution_count": null,
      "outputs": [
        {
          "output_type": "execute_result",
          "data": {
            "text/plain": [
              "8431          The Murder Detectives\n",
              "3034                    Giri / Haji\n",
              "519                   I AM A KILLER\n",
              "5032    The Frankenstein Chronicles\n",
              "4951                         Loaded\n",
              "3789                 Killer Ratings\n",
              "4809                  Kiss Me First\n",
              "366                         Glow Up\n",
              "1603                   Alien Worlds\n",
              "2184                       Get Even\n",
              "Name: title, dtype: object"
            ]
          },
          "metadata": {},
          "execution_count": 269
        }
      ]
    },
    {
      "cell_type": "code",
      "source": [
        "get_recommendations('Peaky Blinders',cosine_sim2)"
      ],
      "metadata": {
        "colab": {
          "base_uri": "https://localhost:8080/"
        },
        "id": "FJCQG8r9NFLZ",
        "outputId": "c4ac9962-f8df-4179-ee75-281cd3bbdbd5"
      },
      "id": "FJCQG8r9NFLZ",
      "execution_count": null,
      "outputs": [
        {
          "output_type": "execute_result",
          "data": {
            "text/plain": [
              "8431          The Murder Detectives\n",
              "3034                    Giri / Haji\n",
              "519                   I AM A KILLER\n",
              "5032    The Frankenstein Chronicles\n",
              "4951                         Loaded\n",
              "3789                 Killer Ratings\n",
              "4809                  Kiss Me First\n",
              "366                         Glow Up\n",
              "1603                   Alien Worlds\n",
              "2184                       Get Even\n",
              "Name: title, dtype: object"
            ]
          },
          "metadata": {},
          "execution_count": 270
        }
      ]
    },
    {
      "cell_type": "markdown",
      "source": [
        "# rating\n",
        "\n",
        "\n"
      ],
      "metadata": {
        "id": "U_GWhXuKFZ3Q"
      },
      "id": "U_GWhXuKFZ3Q"
    },
    {
      "cell_type": "code",
      "source": [
        "#imdb_ratings=pd.read_csv('IMDb ratings.csv',usecols=['weighted_average_vote'])\n",
        "#imdb_titles=pd.read_csv('IMDb movies.csv', usecols=['title','year','genre'])"
      ],
      "metadata": {
        "id": "Pe69EZf2RZRp"
      },
      "id": "Pe69EZf2RZRp",
      "execution_count": null,
      "outputs": []
    },
    {
      "cell_type": "markdown",
      "source": [
        ""
      ],
      "metadata": {
        "id": "hUZJpZMEecxh"
      },
      "id": "hUZJpZMEecxh"
    },
    {
      "cell_type": "code",
      "source": [
        "#ratings = pd.DataFrame({'Title':imdb_titles.title,\n",
        "                      \n",
        "                     #  'IMDb Rating':imdb_ratings.weighted_average_vote,\n",
        "                     #  'Genre':imdb_titles.genre})\n",
        "#ratings.drop_duplicates(subset=['Title', 'IMDb Rating'],inplace=True)\n",
        "#ratings.shape"
      ],
      "metadata": {
        "id": "8Kbkx7C2Rial"
      },
      "id": "8Kbkx7C2Rial",
      "execution_count": null,
      "outputs": []
    },
    {
      "cell_type": "code",
      "source": [
        "#ratings.dropna()\n",
        "#joint_data = ratings.merge(df, left_on='Title', right_on='title', how='inner')\n",
        "#joint_data = joint_data.sort_values(by='IMDb Rating', ascending=False)\n",
        "\n",
        "#merged = nf.merge(netflix, how=\"inner\", left_on=['Title'], right_on=['title'])\n",
        "#merged.head()\n"
      ],
      "metadata": {
        "id": "GEDQ6_ZlRjzF"
      },
      "id": "GEDQ6_ZlRjzF",
      "execution_count": null,
      "outputs": []
    },
    {
      "cell_type": "code",
      "source": [
        "#joint_data.drop(['Title'], axis = 1 ,inplace=True)"
      ],
      "metadata": {
        "id": "0SyEW4irRo2p"
      },
      "id": "0SyEW4irRo2p",
      "execution_count": null,
      "outputs": []
    },
    {
      "cell_type": "code",
      "source": [
        "#ratings.head()"
      ],
      "metadata": {
        "id": "F3bYoYO1VRP3"
      },
      "id": "F3bYoYO1VRP3",
      "execution_count": null,
      "outputs": []
    },
    {
      "cell_type": "markdown",
      "source": [
        "Kmean clustring "
      ],
      "metadata": {
        "id": "YZobZ78nM3BU"
      },
      "id": "YZobZ78nM3BU"
    },
    {
      "cell_type": "code",
      "source": [
        "from sklearn.cluster import KMeans"
      ],
      "metadata": {
        "id": "hPkVg3B_YMM9"
      },
      "id": "hPkVg3B_YMM9",
      "execution_count": null,
      "outputs": []
    },
    {
      "cell_type": "markdown",
      "source": [
        "# **NLP**"
      ],
      "metadata": {
        "id": "Se4EKaapNMtP"
      },
      "id": "Se4EKaapNMtP"
    },
    {
      "cell_type": "markdown",
      "source": [
        "pridect the value of "
      ],
      "metadata": {
        "id": "kcjh9IJAhkFY"
      },
      "id": "kcjh9IJAhkFY"
    },
    {
      "cell_type": "code",
      "source": [
        "import re\n",
        "from sklearn.feature_extraction.text import TfidfVectorizer\n",
        "from sklearn.model_selection import train_test_split"
      ],
      "metadata": {
        "id": "yHdBSSucQ5fi"
      },
      "id": "yHdBSSucQ5fi",
      "execution_count": null,
      "outputs": []
    },
    {
      "cell_type": "code",
      "source": [
        "dfNLP=df"
      ],
      "metadata": {
        "id": "GyuB24V0NVK8"
      },
      "id": "GyuB24V0NVK8",
      "execution_count": null,
      "outputs": []
    },
    {
      "cell_type": "code",
      "source": [
        "dfNLP['listed_in'].value_counts()"
      ],
      "metadata": {
        "colab": {
          "base_uri": "https://localhost:8080/"
        },
        "id": "0hElyHseYPcY",
        "outputId": "add28da5-3f06-452e-f911-5e1d8b2be846"
      },
      "id": "0hElyHseYPcY",
      "execution_count": null,
      "outputs": [
        {
          "output_type": "execute_result",
          "data": {
            "text/plain": [
              "dramas,internationalmovies                           362\n",
              "documentaries                                        359\n",
              "stand-upcomedy                                       334\n",
              "comedies,dramas,internationalmovies                  274\n",
              "dramas,independentmovies,internationalmovies         252\n",
              "                                                    ... \n",
              "romantictvshows,teentvshows                            1\n",
              "documentaries,dramas                                   1\n",
              "children&familymovies,comedies,faith&spirituality      1\n",
              "comedies,documentaries,internationalmovies             1\n",
              "internationaltvshows,tvaction&adventure,tvhorror       1\n",
              "Name: listed_in, Length: 513, dtype: int64"
            ]
          },
          "metadata": {},
          "execution_count": 279
        }
      ]
    },
    {
      "cell_type": "code",
      "source": [
        "#dfNLP[\"dec\"]=dfNLP['title']+ ' ' + dfNLP['director'] + ' ' + dfNLP['cast'] + dfNLP['description']\n",
        "dfNLP[\"dec\"]= dfNLP['description']\n",
        "#features = ['cast', 'director', 'description', 'listed_in']\n",
        "\n",
        "##drop the colum don ue\n",
        "\n"
      ],
      "metadata": {
        "id": "BoGiMtZWOunE"
      },
      "id": "BoGiMtZWOunE",
      "execution_count": null,
      "outputs": []
    },
    {
      "cell_type": "code",
      "source": [
        "import nltk"
      ],
      "metadata": {
        "id": "uNz49CHEEp32"
      },
      "id": "uNz49CHEEp32",
      "execution_count": null,
      "outputs": []
    },
    {
      "cell_type": "code",
      "source": [
        "filtered_genres = dfNLP.listed_in.str.split(',', expand=True).stack().reset_index(level=1, drop=True);"
      ],
      "metadata": {
        "id": "u6mCOaHtJohM"
      },
      "id": "u6mCOaHtJohM",
      "execution_count": null,
      "outputs": []
    },
    {
      "cell_type": "code",
      "source": [
        "#df['listed_in']\n",
        "\n",
        "all_genres = nltk.FreqDist(filtered_genres) \n",
        "\n",
        "# create dataframe\n",
        "all_genres_df = pd.DataFrame({'Genre': list(all_genres.keys()), \n",
        "                              'Count': list(all_genres.values())})"
      ],
      "metadata": {
        "id": "w6SdMdG6D9vz"
      },
      "id": "w6SdMdG6D9vz",
      "execution_count": null,
      "outputs": []
    },
    {
      "cell_type": "code",
      "source": [
        "g = all_genres_df.nlargest(columns=\"Count\", n = 50) \n",
        "plt.figure(figsize=(12,15)) \n",
        "ax = sns.barplot(data=g, x= \"Count\", y = \"Genre\") \n",
        "ax.set(ylabel = 'Count') \n",
        "plt.show()"
      ],
      "metadata": {
        "colab": {
          "base_uri": "https://localhost:8080/",
          "height": 877
        },
        "id": "pj-9WDZtKRVZ",
        "outputId": "41c6d4d4-b2f3-42f0-905f-8dbdc7549f76"
      },
      "id": "pj-9WDZtKRVZ",
      "execution_count": null,
      "outputs": [
        {
          "output_type": "display_data",
          "data": {
            "image/png": "[encoded data removed]",
            "text/plain": [
              "<Figure size 864x1080 with 1 Axes>"
            ]
          },
          "metadata": {
            "needs_background": "light"
          }
        }
      ]
    },
    {
      "cell_type": "code",
      "source": [
        "# function for text cleaning \n",
        "def clean_text(text):\n",
        "    # remove backslash-apostrophe \n",
        "    text = re.sub(\"\\'\", \"\", text) \n",
        "    # remove everything except alphabets \n",
        "    text = re.sub(\"[^a-zA-Z]\",\" \",text) \n",
        "    # remove whitespaces \n",
        "    text = ' '.join(text.split()) \n",
        "    # convert text to lowercase \n",
        "    text = text.lower() \n",
        "    \n",
        "    return text\n",
        "dfNLP['clean_dec'] = dfNLP['dec'].apply(lambda x: clean_text(x))\n"
      ],
      "metadata": {
        "id": "lxVUQPq4Nt_b"
      },
      "id": "lxVUQPq4Nt_b",
      "execution_count": null,
      "outputs": []
    },
    {
      "cell_type": "code",
      "source": [
        "dfNLP['clean_dec'] = dfNLP['dec'].apply(lambda x: clean_text(x))"
      ],
      "metadata": {
        "id": "UeYHQe2dN8gn"
      },
      "id": "UeYHQe2dN8gn",
      "execution_count": null,
      "outputs": []
    },
    {
      "cell_type": "code",
      "source": [
        "nltk.download('stopwords')"
      ],
      "metadata": {
        "colab": {
          "base_uri": "https://localhost:8080/"
        },
        "id": "sv4kgVYzOQYP",
        "outputId": "ac8a11d1-9cc3-4f87-f399-c511925e9a69"
      },
      "id": "sv4kgVYzOQYP",
      "execution_count": null,
      "outputs": [
        {
          "output_type": "stream",
          "name": "stdout",
          "text": [
            "[nltk_data] Downloading package stopwords to /root/nltk_data...\n",
            "[nltk_data]   Package stopwords is already up-to-date!\n"
          ]
        },
        {
          "output_type": "execute_result",
          "data": {
            "text/plain": [
              "True"
            ]
          },
          "metadata": {},
          "execution_count": 287
        }
      ]
    },
    {
      "cell_type": "code",
      "source": [
        "from nltk.corpus import stopwords\n",
        "stop_words = set(stopwords.words('english'))\n",
        "\n",
        "# function to remove stopwords\n",
        "def remove_stopwords(text):\n",
        "    no_stopword_text = [w for w in text.split() if not w in stop_words]\n",
        "    return ' '.join(no_stopword_text)\n",
        "\n",
        "dfNLP['clean_dec']=dfNLP['clean_dec'].apply(lambda x: remove_stopwords(x))"
      ],
      "metadata": {
        "id": "qBkQbwErOYyH"
      },
      "id": "qBkQbwErOYyH",
      "execution_count": null,
      "outputs": []
    },
    {
      "cell_type": "code",
      "source": [
        "from sklearn.preprocessing import MultiLabelBinarizer\n",
        "\n",
        "multilabel_binarizer = MultiLabelBinarizer()\n",
        "multilabel_binarizer.fit(df['listed_in'])\n",
        "\n",
        "# transform target variable\n",
        "y = multilabel_binarizer.transform(df['listed_in'])"
      ],
      "metadata": {
        "id": "1R4FZAvAKX9A"
      },
      "id": "1R4FZAvAKX9A",
      "execution_count": null,
      "outputs": []
    },
    {
      "cell_type": "code",
      "source": [
        "y"
      ],
      "metadata": {
        "colab": {
          "base_uri": "https://localhost:8080/"
        },
        "id": "8XjNovcndi9K",
        "outputId": "ace9b6e1-7028-4c5e-cfd7-7dd63d0ca269"
      },
      "id": "8XjNovcndi9K",
      "execution_count": null,
      "outputs": [
        {
          "output_type": "execute_result",
          "data": {
            "text/plain": [
              "array([[0, 0, 0, ..., 0, 0, 0],\n",
              "       [0, 0, 1, ..., 1, 1, 1],\n",
              "       [1, 0, 1, ..., 1, 1, 0],\n",
              "       ...,\n",
              "       [0, 0, 1, ..., 1, 0, 0],\n",
              "       [1, 0, 1, ..., 1, 0, 1],\n",
              "       [1, 0, 1, ..., 1, 0, 0]])"
            ]
          },
          "metadata": {},
          "execution_count": 290
        }
      ]
    },
    {
      "cell_type": "code",
      "source": [
        "tfidf_vectorizer = TfidfVectorizer(max_df=0.8, max_features=10000)"
      ],
      "metadata": {
        "id": "CKjI5HdqOjZA"
      },
      "id": "CKjI5HdqOjZA",
      "execution_count": null,
      "outputs": []
    },
    {
      "cell_type": "code",
      "source": [
        "# split dataset into training and validation set\n",
        "xtrain, xval, ytrain, yval = train_test_split(dfNLP['clean_dec'], y, test_size=0.2, random_state=9)"
      ],
      "metadata": {
        "id": "lp5rpmGTSXBO"
      },
      "id": "lp5rpmGTSXBO",
      "execution_count": null,
      "outputs": []
    },
    {
      "cell_type": "code",
      "source": [
        "# create TF-IDF features\n",
        "xtrain_tfidf = tfidf_vectorizer.fit_transform(xtrain)\n",
        "xval_tfidf = tfidf_vectorizer.transform(xval)"
      ],
      "metadata": {
        "id": "bFKeS-8QSWoc"
      },
      "id": "bFKeS-8QSWoc",
      "execution_count": null,
      "outputs": []
    },
    {
      "cell_type": "code",
      "source": [
        "from sklearn.linear_model import LogisticRegression\n",
        "\n",
        "# Binary Relevance\n",
        "from sklearn.multiclass import OneVsRestClassifier\n",
        "\n",
        "# Performance metric\n",
        "from sklearn.metrics import f1_score"
      ],
      "metadata": {
        "id": "8tA0FKwYTCGT"
      },
      "id": "8tA0FKwYTCGT",
      "execution_count": null,
      "outputs": []
    },
    {
      "cell_type": "code",
      "source": [
        "lr = LogisticRegression()\n",
        "clf = OneVsRestClassifier(lr)"
      ],
      "metadata": {
        "id": "GNbeq9M4TIOn"
      },
      "id": "GNbeq9M4TIOn",
      "execution_count": null,
      "outputs": []
    },
    {
      "cell_type": "code",
      "source": [
        "clf.fit(xtrain_tfidf, ytrain)"
      ],
      "metadata": {
        "colab": {
          "base_uri": "https://localhost:8080/"
        },
        "id": "53a4NJE_SxS1",
        "outputId": "5822d42c-0181-499b-df4b-1d14661e3208"
      },
      "id": "53a4NJE_SxS1",
      "execution_count": null,
      "outputs": [
        {
          "output_type": "execute_result",
          "data": {
            "text/plain": [
              "OneVsRestClassifier(estimator=LogisticRegression())"
            ]
          },
          "metadata": {},
          "execution_count": 296
        }
      ]
    },
    {
      "cell_type": "code",
      "source": [
        "# make predictions for validation set\n",
        "y_pred = clf.predict(xval_tfidf)"
      ],
      "metadata": {
        "id": "fCuM9m1oTWVI"
      },
      "id": "fCuM9m1oTWVI",
      "execution_count": null,
      "outputs": []
    },
    {
      "cell_type": "code",
      "source": [
        "y_pred[3]"
      ],
      "metadata": {
        "colab": {
          "base_uri": "https://localhost:8080/"
        },
        "id": "POP9XjfMTcjK",
        "outputId": "618dcbcf-fc4c-4472-84db-1336e52edf3b"
      },
      "id": "POP9XjfMTcjK",
      "execution_count": null,
      "outputs": [
        {
          "output_type": "execute_result",
          "data": {
            "text/plain": [
              "array([0, 0, 1, 0, 1, 0, 1, 1, 1, 0, 0, 0, 1, 0, 1, 1, 1, 1, 0, 0, 1, 1,\n",
              "       1, 0, 1, 0, 0])"
            ]
          },
          "metadata": {},
          "execution_count": 298
        }
      ]
    },
    {
      "cell_type": "code",
      "source": [
        "#this shold returend the movie grene it work but formation not right\n",
        "multilabel_binarizer.inverse_transform(y_pred)[2]"
      ],
      "metadata": {
        "colab": {
          "base_uri": "https://localhost:8080/"
        },
        "id": "1C6d1RQVTjX2",
        "outputId": "94fea259-6a2a-4596-a0c2-50af7f207cb7"
      },
      "id": "1C6d1RQVTjX2",
      "execution_count": null,
      "outputs": [
        {
          "output_type": "execute_result",
          "data": {
            "text/plain": [
              "(',', 'a', 'c', 'd', 'e', 'i', 'l', 'm', 'n', 'o', 'r', 's', 't', 'v')"
            ]
          },
          "metadata": {},
          "execution_count": 299
        }
      ]
    },
    {
      "cell_type": "code",
      "source": [
        "# evaluate performance\n",
        "f1_score(yval, y_pred, average=\"micro\")"
      ],
      "metadata": {
        "colab": {
          "base_uri": "https://localhost:8080/"
        },
        "id": "StKHK-im3KLi",
        "outputId": "a9402d55-de85-4a3c-94f2-4c1c10ea918e"
      },
      "id": "StKHK-im3KLi",
      "execution_count": null,
      "outputs": [
        {
          "output_type": "execute_result",
          "data": {
            "text/plain": [
              "0.8539078727650389"
            ]
          },
          "metadata": {},
          "execution_count": 302
        }
      ]
    },
    {
      "cell_type": "code",
      "source": [
        "df['listed_in'].nunique()"
      ],
      "metadata": {
        "colab": {
          "base_uri": "https://localhost:8080/"
        },
        "id": "a3CGcnJVbz5_",
        "outputId": "10a0e0b9-eb56-4ac7-a22f-5f74db2a2f83"
      },
      "id": "a3CGcnJVbz5_",
      "execution_count": null,
      "outputs": [
        {
          "output_type": "execute_result",
          "data": {
            "text/plain": [
              "513"
            ]
          },
          "metadata": {},
          "execution_count": 304
        }
      ]
    },
    {
      "cell_type": "code",
      "source": [
        ""
      ],
      "metadata": {
        "id": "yj2YRUIZE-TW"
      },
      "id": "yj2YRUIZE-TW",
      "execution_count": null,
      "outputs": []
    },
    {
      "cell_type": "code",
      "source": [
        "df4=df"
      ],
      "metadata": {
        "id": "7_E-IiJa5Mn0"
      },
      "id": "7_E-IiJa5Mn0",
      "execution_count": null,
      "outputs": []
    },
    {
      "cell_type": "code",
      "source": [
        "\n",
        "\n",
        "df4[['genre1', 'genre2', 'genre3']]=df4['listed_in'].str.split(',', expand=True)\n"
      ],
      "metadata": {
        "id": "m2zmnOXvuelP"
      },
      "id": "m2zmnOXvuelP",
      "execution_count": null,
      "outputs": []
    },
    {
      "cell_type": "code",
      "source": [
        "df4.head()"
      ],
      "metadata": {
        "id": "V590scB35SWK",
        "colab": {
          "base_uri": "https://localhost:8080/",
          "height": 365
        },
        "outputId": "ca137fcb-a395-42e0-929f-985cf5ef11d3"
      },
      "id": "V590scB35SWK",
      "execution_count": null,
      "outputs": [
        {
          "output_type": "execute_result",
          "data": {
            "text/html": [
              "<div>\n",
              "<style scoped>\n",
              "    .dataframe tbody tr th:only-of-type {\n",
              "        vertical-align: middle;\n",
              "    }\n",
              "\n",
              "    .dataframe tbody tr th {\n",
              "        vertical-align: top;\n",
              "    }\n",
              "\n",
              "    .dataframe thead th {\n",
              "        text-align: right;\n",
              "    }\n",
              "</style>\n",
              "<table border=\"1\" class=\"dataframe\">\n",
              "  <thead>\n",
              "    <tr style=\"text-align: right;\">\n",
              "      <th></th>\n",
              "      <th>show_id</th>\n",
              "      <th>type</th>\n",
              "      <th>title</th>\n",
              "      <th>director</th>\n",
              "      <th>cast</th>\n",
              "      <th>country</th>\n",
              "      <th>release_year</th>\n",
              "      <th>rating</th>\n",
              "      <th>duration</th>\n",
              "      <th>listed_in</th>\n",
              "      <th>description</th>\n",
              "      <th>year_added</th>\n",
              "      <th>month_added</th>\n",
              "      <th>month_add_name</th>\n",
              "      <th>soup</th>\n",
              "      <th>dec</th>\n",
              "      <th>clean_dec</th>\n",
              "      <th>genre1</th>\n",
              "      <th>genre2</th>\n",
              "      <th>genre3</th>\n",
              "    </tr>\n",
              "  </thead>\n",
              "  <tbody>\n",
              "    <tr>\n",
              "      <th>0</th>\n",
              "      <td>s1</td>\n",
              "      <td>Movie</td>\n",
              "      <td>Dick Johnson Is Dead</td>\n",
              "      <td>kirstenjohnson</td>\n",
              "      <td>missingdata</td>\n",
              "      <td>United States</td>\n",
              "      <td>2020</td>\n",
              "      <td>PG-13</td>\n",
              "      <td>90 min</td>\n",
              "      <td>documentaries</td>\n",
              "      <td>asherfathernearstheendofhislife,filmmakerkirst...</td>\n",
              "      <td>2021</td>\n",
              "      <td>9</td>\n",
              "      <td>September</td>\n",
              "      <td>Dick Johnson Is Dead kirstenjohnson missingdat...</td>\n",
              "      <td>asherfathernearstheendofhislife,filmmakerkirst...</td>\n",
              "      <td>asherfathernearstheendofhislife filmmakerkirst...</td>\n",
              "      <td>documentaries</td>\n",
              "      <td>None</td>\n",
              "      <td>None</td>\n",
              "    </tr>\n",
              "    <tr>\n",
              "      <th>1</th>\n",
              "      <td>s2</td>\n",
              "      <td>TV Show</td>\n",
              "      <td>Blood &amp; Water</td>\n",
              "      <td>missingdata</td>\n",
              "      <td>amaqamata,khosingema,gailmabalane,thabangmolab...</td>\n",
              "      <td>South Africa</td>\n",
              "      <td>2021</td>\n",
              "      <td>TV-MA</td>\n",
              "      <td>2 Seasons</td>\n",
              "      <td>internationaltvshows,tvdramas,tvmysteries</td>\n",
              "      <td>aftercrossingpathsataparty,acapetownteensetsou...</td>\n",
              "      <td>2021</td>\n",
              "      <td>9</td>\n",
              "      <td>September</td>\n",
              "      <td>Blood &amp; Water missingdata amaqamata,khosingema...</td>\n",
              "      <td>aftercrossingpathsataparty,acapetownteensetsou...</td>\n",
              "      <td>aftercrossingpathsataparty acapetownteensetsou...</td>\n",
              "      <td>internationaltvshows</td>\n",
              "      <td>tvdramas</td>\n",
              "      <td>tvmysteries</td>\n",
              "    </tr>\n",
              "    <tr>\n",
              "      <th>2</th>\n",
              "      <td>s3</td>\n",
              "      <td>TV Show</td>\n",
              "      <td>Ganglands</td>\n",
              "      <td>julienleclercq</td>\n",
              "      <td>samibouajila,tracygotoas,samueljouy,nabihaakka...</td>\n",
              "      <td>other</td>\n",
              "      <td>2021</td>\n",
              "      <td>TV-MA</td>\n",
              "      <td>1 Season</td>\n",
              "      <td>crimetvshows,internationaltvshows,tvaction&amp;adv...</td>\n",
              "      <td>toprotecthisfamilyfromapowerfuldruglord,skille...</td>\n",
              "      <td>2021</td>\n",
              "      <td>9</td>\n",
              "      <td>September</td>\n",
              "      <td>Ganglands julienleclercq samibouajila,tracygot...</td>\n",
              "      <td>toprotecthisfamilyfromapowerfuldruglord,skille...</td>\n",
              "      <td>toprotecthisfamilyfromapowerfuldruglord skille...</td>\n",
              "      <td>crimetvshows</td>\n",
              "      <td>internationaltvshows</td>\n",
              "      <td>tvaction&amp;adventure</td>\n",
              "    </tr>\n",
              "    <tr>\n",
              "      <th>3</th>\n",
              "      <td>s4</td>\n",
              "      <td>TV Show</td>\n",
              "      <td>Jailbirds New Orleans</td>\n",
              "      <td>missingdata</td>\n",
              "      <td>missingdata</td>\n",
              "      <td>other</td>\n",
              "      <td>2021</td>\n",
              "      <td>TV-MA</td>\n",
              "      <td>1 Season</td>\n",
              "      <td>docuseries,realitytv</td>\n",
              "      <td>feuds,flirtationsandtoilettalkgodownamongthein...</td>\n",
              "      <td>2021</td>\n",
              "      <td>9</td>\n",
              "      <td>September</td>\n",
              "      <td>Jailbirds New Orleans missingdata missingdata ...</td>\n",
              "      <td>feuds,flirtationsandtoilettalkgodownamongthein...</td>\n",
              "      <td>feuds flirtationsandtoilettalkgodownamongthein...</td>\n",
              "      <td>docuseries</td>\n",
              "      <td>realitytv</td>\n",
              "      <td>None</td>\n",
              "    </tr>\n",
              "    <tr>\n",
              "      <th>4</th>\n",
              "      <td>s5</td>\n",
              "      <td>TV Show</td>\n",
              "      <td>Kota Factory</td>\n",
              "      <td>missingdata</td>\n",
              "      <td>mayurmore,jitendrakumar,ranjanraj,alamkhan,ahs...</td>\n",
              "      <td>India</td>\n",
              "      <td>2021</td>\n",
              "      <td>TV-MA</td>\n",
              "      <td>2 Seasons</td>\n",
              "      <td>internationaltvshows,romantictvshows,tvcomedies</td>\n",
              "      <td>inacityofcoachingcentersknowntotrainindia’sfin...</td>\n",
              "      <td>2021</td>\n",
              "      <td>9</td>\n",
              "      <td>September</td>\n",
              "      <td>Kota Factory missingdata mayurmore,jitendrakum...</td>\n",
              "      <td>inacityofcoachingcentersknowntotrainindia’sfin...</td>\n",
              "      <td>inacityofcoachingcentersknowntotrainindia sfin...</td>\n",
              "      <td>internationaltvshows</td>\n",
              "      <td>romantictvshows</td>\n",
              "      <td>tvcomedies</td>\n",
              "    </tr>\n",
              "  </tbody>\n",
              "</table>\n",
              "</div>"
            ],
            "text/plain": [
              "  show_id     type  ...                genre2              genre3\n",
              "0      s1    Movie  ...                  None                None\n",
              "1      s2  TV Show  ...              tvdramas         tvmysteries\n",
              "2      s3  TV Show  ...  internationaltvshows  tvaction&adventure\n",
              "3      s4  TV Show  ...             realitytv                None\n",
              "4      s5  TV Show  ...       romantictvshows          tvcomedies\n",
              "\n",
              "[5 rows x 20 columns]"
            ]
          },
          "metadata": {},
          "execution_count": 307
        }
      ]
    },
    {
      "cell_type": "code",
      "source": [
        "df['genre1'].nunique()"
      ],
      "metadata": {
        "id": "X89Nu6_71avw",
        "colab": {
          "base_uri": "https://localhost:8080/"
        },
        "outputId": "d13513f9-ba55-4bd4-b848-679e9b65ff1f"
      },
      "id": "X89Nu6_71avw",
      "execution_count": null,
      "outputs": [
        {
          "output_type": "execute_result",
          "data": {
            "text/plain": [
              "36"
            ]
          },
          "metadata": {},
          "execution_count": 308
        }
      ]
    },
    {
      "cell_type": "code",
      "source": [
        "from sklearn.cluster import KMeans"
      ],
      "metadata": {
        "id": "Vfvitshk1iee"
      },
      "id": "Vfvitshk1iee",
      "execution_count": null,
      "outputs": []
    },
    {
      "cell_type": "code",
      "source": [
        "df3=df"
      ],
      "metadata": {
        "id": "KbCV-GeHbPms"
      },
      "id": "KbCV-GeHbPms",
      "execution_count": null,
      "outputs": []
    },
    {
      "cell_type": "code",
      "source": [
        "hj=pd.get_dummies(df4, columns = [ 'genre1'])"
      ],
      "metadata": {
        "id": "JHNJTFiTbqAC"
      },
      "id": "JHNJTFiTbqAC",
      "execution_count": null,
      "outputs": []
    },
    {
      "cell_type": "code",
      "source": [
        "one_hot_encoded_data = pd.get_dummies(df4, columns = ['title', 'genre1'])"
      ],
      "metadata": {
        "id": "T4cAl8VL2LLw"
      },
      "id": "T4cAl8VL2LLw",
      "execution_count": null,
      "outputs": []
    },
    {
      "cell_type": "code",
      "source": [
        "from sklearn.preprocessing import LabelEncoder\n",
        "le_sex = LabelEncoder()\n",
        "df3['title_encoded'] = le_sex.fit_transform(df4['title'])\n",
        "df3['genre1_encoded'] = le_sex.fit_transform(df4['genre1'])\n",
        "df3['type_encoded'] = le_sex.fit_transform(df4['type'])\n",
        "#df3['release_year_encoded'] = le_sex.fit_transform(df4['release_year'])\n",
        "#df3['country_encoded'] = le_sex.fit_transform(df4['country'])\n",
        "df3['rating_encoded'] = le_sex.fit_transform(df4['rating'])\n",
        "df3['description_encoded'] = le_sex.fit_transform(df4['description'])\n"
      ],
      "metadata": {
        "id": "XNTiaxJZ9kqF"
      },
      "id": "XNTiaxJZ9kqF",
      "execution_count": null,
      "outputs": []
    },
    {
      "cell_type": "code",
      "source": [
        "df3.head()"
      ],
      "metadata": {
        "id": "IXa-zb-ed-5g",
        "colab": {
          "base_uri": "https://localhost:8080/",
          "height": 365
        },
        "outputId": "54b449b7-6c91-4e77-be91-e2dfad921405"
      },
      "id": "IXa-zb-ed-5g",
      "execution_count": null,
      "outputs": [
        {
          "output_type": "execute_result",
          "data": {
            "text/html": [
              "<div>\n",
              "<style scoped>\n",
              "    .dataframe tbody tr th:only-of-type {\n",
              "        vertical-align: middle;\n",
              "    }\n",
              "\n",
              "    .dataframe tbody tr th {\n",
              "        vertical-align: top;\n",
              "    }\n",
              "\n",
              "    .dataframe thead th {\n",
              "        text-align: right;\n",
              "    }\n",
              "</style>\n",
              "<table border=\"1\" class=\"dataframe\">\n",
              "  <thead>\n",
              "    <tr style=\"text-align: right;\">\n",
              "      <th></th>\n",
              "      <th>show_id</th>\n",
              "      <th>type</th>\n",
              "      <th>title</th>\n",
              "      <th>director</th>\n",
              "      <th>cast</th>\n",
              "      <th>country</th>\n",
              "      <th>release_year</th>\n",
              "      <th>rating</th>\n",
              "      <th>duration</th>\n",
              "      <th>listed_in</th>\n",
              "      <th>description</th>\n",
              "      <th>year_added</th>\n",
              "      <th>month_added</th>\n",
              "      <th>month_add_name</th>\n",
              "      <th>soup</th>\n",
              "      <th>dec</th>\n",
              "      <th>clean_dec</th>\n",
              "      <th>genre1</th>\n",
              "      <th>genre2</th>\n",
              "      <th>genre3</th>\n",
              "      <th>title_encoded</th>\n",
              "      <th>genre1_encoded</th>\n",
              "      <th>type_encoded</th>\n",
              "      <th>rating_encoded</th>\n",
              "      <th>description_encoded</th>\n",
              "    </tr>\n",
              "  </thead>\n",
              "  <tbody>\n",
              "    <tr>\n",
              "      <th>0</th>\n",
              "      <td>s1</td>\n",
              "      <td>Movie</td>\n",
              "      <td>Dick Johnson Is Dead</td>\n",
              "      <td>kirstenjohnson</td>\n",
              "      <td>missingdata</td>\n",
              "      <td>United States</td>\n",
              "      <td>2020</td>\n",
              "      <td>PG-13</td>\n",
              "      <td>90 min</td>\n",
              "      <td>documentaries</td>\n",
              "      <td>asherfathernearstheendofhislife,filmmakerkirst...</td>\n",
              "      <td>2021</td>\n",
              "      <td>9</td>\n",
              "      <td>September</td>\n",
              "      <td>Dick Johnson Is Dead kirstenjohnson missingdat...</td>\n",
              "      <td>asherfathernearstheendofhislife,filmmakerkirst...</td>\n",
              "      <td>asherfathernearstheendofhislife filmmakerkirst...</td>\n",
              "      <td>documentaries</td>\n",
              "      <td>None</td>\n",
              "      <td>None</td>\n",
              "      <td>1972</td>\n",
              "      <td>10</td>\n",
              "      <td>0</td>\n",
              "      <td>4</td>\n",
              "      <td>2093</td>\n",
              "    </tr>\n",
              "    <tr>\n",
              "      <th>1</th>\n",
              "      <td>s2</td>\n",
              "      <td>TV Show</td>\n",
              "      <td>Blood &amp; Water</td>\n",
              "      <td>missingdata</td>\n",
              "      <td>amaqamata,khosingema,gailmabalane,thabangmolab...</td>\n",
              "      <td>South Africa</td>\n",
              "      <td>2021</td>\n",
              "      <td>TV-MA</td>\n",
              "      <td>2 Seasons</td>\n",
              "      <td>internationaltvshows,tvdramas,tvmysteries</td>\n",
              "      <td>aftercrossingpathsataparty,acapetownteensetsou...</td>\n",
              "      <td>2021</td>\n",
              "      <td>9</td>\n",
              "      <td>September</td>\n",
              "      <td>Blood &amp; Water missingdata amaqamata,khosingema...</td>\n",
              "      <td>aftercrossingpathsataparty,acapetownteensetsou...</td>\n",
              "      <td>aftercrossingpathsataparty acapetownteensetsou...</td>\n",
              "      <td>internationaltvshows</td>\n",
              "      <td>tvdramas</td>\n",
              "      <td>tvmysteries</td>\n",
              "      <td>1088</td>\n",
              "      <td>16</td>\n",
              "      <td>1</td>\n",
              "      <td>8</td>\n",
              "      <td>706</td>\n",
              "    </tr>\n",
              "    <tr>\n",
              "      <th>2</th>\n",
              "      <td>s3</td>\n",
              "      <td>TV Show</td>\n",
              "      <td>Ganglands</td>\n",
              "      <td>julienleclercq</td>\n",
              "      <td>samibouajila,tracygotoas,samueljouy,nabihaakka...</td>\n",
              "      <td>other</td>\n",
              "      <td>2021</td>\n",
              "      <td>TV-MA</td>\n",
              "      <td>1 Season</td>\n",
              "      <td>crimetvshows,internationaltvshows,tvaction&amp;adv...</td>\n",
              "      <td>toprotecthisfamilyfromapowerfuldruglord,skille...</td>\n",
              "      <td>2021</td>\n",
              "      <td>9</td>\n",
              "      <td>September</td>\n",
              "      <td>Ganglands julienleclercq samibouajila,tracygot...</td>\n",
              "      <td>toprotecthisfamilyfromapowerfuldruglord,skille...</td>\n",
              "      <td>toprotecthisfamilyfromapowerfuldruglord skille...</td>\n",
              "      <td>crimetvshows</td>\n",
              "      <td>internationaltvshows</td>\n",
              "      <td>tvaction&amp;adventure</td>\n",
              "      <td>2646</td>\n",
              "      <td>8</td>\n",
              "      <td>1</td>\n",
              "      <td>8</td>\n",
              "      <td>7330</td>\n",
              "    </tr>\n",
              "    <tr>\n",
              "      <th>3</th>\n",
              "      <td>s4</td>\n",
              "      <td>TV Show</td>\n",
              "      <td>Jailbirds New Orleans</td>\n",
              "      <td>missingdata</td>\n",
              "      <td>missingdata</td>\n",
              "      <td>other</td>\n",
              "      <td>2021</td>\n",
              "      <td>TV-MA</td>\n",
              "      <td>1 Season</td>\n",
              "      <td>docuseries,realitytv</td>\n",
              "      <td>feuds,flirtationsandtoilettalkgodownamongthein...</td>\n",
              "      <td>2021</td>\n",
              "      <td>9</td>\n",
              "      <td>September</td>\n",
              "      <td>Jailbirds New Orleans missingdata missingdata ...</td>\n",
              "      <td>feuds,flirtationsandtoilettalkgodownamongthein...</td>\n",
              "      <td>feuds flirtationsandtoilettalkgodownamongthein...</td>\n",
              "      <td>docuseries</td>\n",
              "      <td>realitytv</td>\n",
              "      <td>None</td>\n",
              "      <td>3499</td>\n",
              "      <td>11</td>\n",
              "      <td>1</td>\n",
              "      <td>8</td>\n",
              "      <td>3612</td>\n",
              "    </tr>\n",
              "    <tr>\n",
              "      <th>4</th>\n",
              "      <td>s5</td>\n",
              "      <td>TV Show</td>\n",
              "      <td>Kota Factory</td>\n",
              "      <td>missingdata</td>\n",
              "      <td>mayurmore,jitendrakumar,ranjanraj,alamkhan,ahs...</td>\n",
              "      <td>India</td>\n",
              "      <td>2021</td>\n",
              "      <td>TV-MA</td>\n",
              "      <td>2 Seasons</td>\n",
              "      <td>internationaltvshows,romantictvshows,tvcomedies</td>\n",
              "      <td>inacityofcoachingcentersknowntotrainindia’sfin...</td>\n",
              "      <td>2021</td>\n",
              "      <td>9</td>\n",
              "      <td>September</td>\n",
              "      <td>Kota Factory missingdata mayurmore,jitendrakum...</td>\n",
              "      <td>inacityofcoachingcentersknowntotrainindia’sfin...</td>\n",
              "      <td>inacityofcoachingcentersknowntotrainindia sfin...</td>\n",
              "      <td>internationaltvshows</td>\n",
              "      <td>romantictvshows</td>\n",
              "      <td>tvcomedies</td>\n",
              "      <td>3853</td>\n",
              "      <td>16</td>\n",
              "      <td>1</td>\n",
              "      <td>8</td>\n",
              "      <td>4367</td>\n",
              "    </tr>\n",
              "  </tbody>\n",
              "</table>\n",
              "</div>"
            ],
            "text/plain": [
              "  show_id     type  ... rating_encoded description_encoded\n",
              "0      s1    Movie  ...              4                2093\n",
              "1      s2  TV Show  ...              8                 706\n",
              "2      s3  TV Show  ...              8                7330\n",
              "3      s4  TV Show  ...              8                3612\n",
              "4      s5  TV Show  ...              8                4367\n",
              "\n",
              "[5 rows x 25 columns]"
            ]
          },
          "metadata": {},
          "execution_count": 314
        }
      ]
    },
    {
      "cell_type": "code",
      "source": [
        "#df3['title_encoded'],'genre1_encoded','type_encoded','rating_encoded')\n",
        "df3[[\"title_encoded\", \"genre1_encoded\",\"type_encoded\",\"rating_encoded\",\"description_encoded\"]]"
      ],
      "metadata": {
        "id": "Br2D-HHe95bj",
        "colab": {
          "base_uri": "https://localhost:8080/",
          "height": 423
        },
        "outputId": "4412c454-ee46-4a10-c939-b830d6a7d2ea"
      },
      "id": "Br2D-HHe95bj",
      "execution_count": null,
      "outputs": [
        {
          "output_type": "execute_result",
          "data": {
            "text/html": [
              "<div>\n",
              "<style scoped>\n",
              "    .dataframe tbody tr th:only-of-type {\n",
              "        vertical-align: middle;\n",
              "    }\n",
              "\n",
              "    .dataframe tbody tr th {\n",
              "        vertical-align: top;\n",
              "    }\n",
              "\n",
              "    .dataframe thead th {\n",
              "        text-align: right;\n",
              "    }\n",
              "</style>\n",
              "<table border=\"1\" class=\"dataframe\">\n",
              "  <thead>\n",
              "    <tr style=\"text-align: right;\">\n",
              "      <th></th>\n",
              "      <th>title_encoded</th>\n",
              "      <th>genre1_encoded</th>\n",
              "      <th>type_encoded</th>\n",
              "      <th>rating_encoded</th>\n",
              "      <th>description_encoded</th>\n",
              "    </tr>\n",
              "  </thead>\n",
              "  <tbody>\n",
              "    <tr>\n",
              "      <th>0</th>\n",
              "      <td>1972</td>\n",
              "      <td>10</td>\n",
              "      <td>0</td>\n",
              "      <td>4</td>\n",
              "      <td>2093</td>\n",
              "    </tr>\n",
              "    <tr>\n",
              "      <th>1</th>\n",
              "      <td>1088</td>\n",
              "      <td>16</td>\n",
              "      <td>1</td>\n",
              "      <td>8</td>\n",
              "      <td>706</td>\n",
              "    </tr>\n",
              "    <tr>\n",
              "      <th>2</th>\n",
              "      <td>2646</td>\n",
              "      <td>8</td>\n",
              "      <td>1</td>\n",
              "      <td>8</td>\n",
              "      <td>7330</td>\n",
              "    </tr>\n",
              "    <tr>\n",
              "      <th>3</th>\n",
              "      <td>3499</td>\n",
              "      <td>11</td>\n",
              "      <td>1</td>\n",
              "      <td>8</td>\n",
              "      <td>3612</td>\n",
              "    </tr>\n",
              "    <tr>\n",
              "      <th>4</th>\n",
              "      <td>3853</td>\n",
              "      <td>16</td>\n",
              "      <td>1</td>\n",
              "      <td>8</td>\n",
              "      <td>4367</td>\n",
              "    </tr>\n",
              "    <tr>\n",
              "      <th>...</th>\n",
              "      <td>...</td>\n",
              "      <td>...</td>\n",
              "      <td>...</td>\n",
              "      <td>...</td>\n",
              "      <td>...</td>\n",
              "    </tr>\n",
              "    <tr>\n",
              "      <th>8802</th>\n",
              "      <td>8753</td>\n",
              "      <td>9</td>\n",
              "      <td>0</td>\n",
              "      <td>5</td>\n",
              "      <td>1847</td>\n",
              "    </tr>\n",
              "    <tr>\n",
              "      <th>8803</th>\n",
              "      <td>8756</td>\n",
              "      <td>17</td>\n",
              "      <td>1</td>\n",
              "      <td>11</td>\n",
              "      <td>8461</td>\n",
              "    </tr>\n",
              "    <tr>\n",
              "      <th>8804</th>\n",
              "      <td>8757</td>\n",
              "      <td>7</td>\n",
              "      <td>0</td>\n",
              "      <td>5</td>\n",
              "      <td>5221</td>\n",
              "    </tr>\n",
              "    <tr>\n",
              "      <th>8805</th>\n",
              "      <td>8760</td>\n",
              "      <td>4</td>\n",
              "      <td>0</td>\n",
              "      <td>3</td>\n",
              "      <td>3310</td>\n",
              "    </tr>\n",
              "    <tr>\n",
              "      <th>8806</th>\n",
              "      <td>8764</td>\n",
              "      <td>12</td>\n",
              "      <td>0</td>\n",
              "      <td>6</td>\n",
              "      <td>2045</td>\n",
              "    </tr>\n",
              "  </tbody>\n",
              "</table>\n",
              "<p>8790 rows × 5 columns</p>\n",
              "</div>"
            ],
            "text/plain": [
              "      title_encoded  genre1_encoded  ...  rating_encoded  description_encoded\n",
              "0              1972              10  ...               4                 2093\n",
              "1              1088              16  ...               8                  706\n",
              "2              2646               8  ...               8                 7330\n",
              "3              3499              11  ...               8                 3612\n",
              "4              3853              16  ...               8                 4367\n",
              "...             ...             ...  ...             ...                  ...\n",
              "8802           8753               9  ...               5                 1847\n",
              "8803           8756              17  ...              11                 8461\n",
              "8804           8757               7  ...               5                 5221\n",
              "8805           8760               4  ...               3                 3310\n",
              "8806           8764              12  ...               6                 2045\n",
              "\n",
              "[8790 rows x 5 columns]"
            ]
          },
          "metadata": {},
          "execution_count": 315
        }
      ]
    },
    {
      "cell_type": "code",
      "source": [
        "km = KMeans(n_clusters=3)\n",
        "y_predicted = km.fit_predict(df3[[\"title_encoded\", \"genre1_encoded\",\"type_encoded\",\"rating_encoded\",\"description_encoded\"]])"
      ],
      "metadata": {
        "id": "XwckLzJN1mtP"
      },
      "id": "XwckLzJN1mtP",
      "execution_count": null,
      "outputs": []
    },
    {
      "cell_type": "code",
      "source": [
        "from sklearn.cluster import KMeans\n",
        "kmeans_1 = KMeans(n_clusters=4)"
      ],
      "metadata": {
        "id": "YcVUTvu0mcg6"
      },
      "id": "YcVUTvu0mcg6",
      "execution_count": null,
      "outputs": []
    },
    {
      "cell_type": "code",
      "source": [
        "ypred = kmeans_1.fit_predict(df3[[\"title_encoded\", \"genre1_encoded\",\"type_encoded\",\"rating_encoded\",\"description_encoded\"]])"
      ],
      "metadata": {
        "id": "NWFbu4Swmrc_"
      },
      "id": "NWFbu4Swmrc_",
      "execution_count": null,
      "outputs": []
    },
    {
      "cell_type": "code",
      "source": [
        "df3['cluster']=ypred"
      ],
      "metadata": {
        "id": "0P8fhBysxkeA"
      },
      "id": "0P8fhBysxkeA",
      "execution_count": null,
      "outputs": []
    },
    {
      "cell_type": "code",
      "source": [
        "df3"
      ],
      "metadata": {
        "id": "rKsYRdP6xrl9",
        "colab": {
          "base_uri": "https://localhost:8080/",
          "height": 652
        },
        "outputId": "283803e1-5b9c-461c-9126-7470a5f42426"
      },
      "id": "rKsYRdP6xrl9",
      "execution_count": null,
      "outputs": [
        {
          "output_type": "execute_result",
          "data": {
            "text/html": [
              "<div>\n",
              "<style scoped>\n",
              "    .dataframe tbody tr th:only-of-type {\n",
              "        vertical-align: middle;\n",
              "    }\n",
              "\n",
              "    .dataframe tbody tr th {\n",
              "        vertical-align: top;\n",
              "    }\n",
              "\n",
              "    .dataframe thead th {\n",
              "        text-align: right;\n",
              "    }\n",
              "</style>\n",
              "<table border=\"1\" class=\"dataframe\">\n",
              "  <thead>\n",
              "    <tr style=\"text-align: right;\">\n",
              "      <th></th>\n",
              "      <th>show_id</th>\n",
              "      <th>type</th>\n",
              "      <th>title</th>\n",
              "      <th>director</th>\n",
              "      <th>cast</th>\n",
              "      <th>country</th>\n",
              "      <th>release_year</th>\n",
              "      <th>rating</th>\n",
              "      <th>duration</th>\n",
              "      <th>listed_in</th>\n",
              "      <th>description</th>\n",
              "      <th>year_added</th>\n",
              "      <th>month_added</th>\n",
              "      <th>month_add_name</th>\n",
              "      <th>soup</th>\n",
              "      <th>dec</th>\n",
              "      <th>clean_dec</th>\n",
              "      <th>genre1</th>\n",
              "      <th>genre2</th>\n",
              "      <th>genre3</th>\n",
              "      <th>title_encoded</th>\n",
              "      <th>genre1_encoded</th>\n",
              "      <th>type_encoded</th>\n",
              "      <th>rating_encoded</th>\n",
              "      <th>description_encoded</th>\n",
              "      <th>cluster</th>\n",
              "    </tr>\n",
              "  </thead>\n",
              "  <tbody>\n",
              "    <tr>\n",
              "      <th>0</th>\n",
              "      <td>s1</td>\n",
              "      <td>Movie</td>\n",
              "      <td>Dick Johnson Is Dead</td>\n",
              "      <td>kirstenjohnson</td>\n",
              "      <td>missingdata</td>\n",
              "      <td>United States</td>\n",
              "      <td>2020</td>\n",
              "      <td>PG-13</td>\n",
              "      <td>90 min</td>\n",
              "      <td>documentaries</td>\n",
              "      <td>asherfathernearstheendofhislife,filmmakerkirst...</td>\n",
              "      <td>2021</td>\n",
              "      <td>9</td>\n",
              "      <td>September</td>\n",
              "      <td>Dick Johnson Is Dead kirstenjohnson missingdat...</td>\n",
              "      <td>asherfathernearstheendofhislife,filmmakerkirst...</td>\n",
              "      <td>asherfathernearstheendofhislife filmmakerkirst...</td>\n",
              "      <td>documentaries</td>\n",
              "      <td>None</td>\n",
              "      <td>None</td>\n",
              "      <td>1972</td>\n",
              "      <td>10</td>\n",
              "      <td>0</td>\n",
              "      <td>4</td>\n",
              "      <td>2093</td>\n",
              "      <td>0</td>\n",
              "    </tr>\n",
              "    <tr>\n",
              "      <th>1</th>\n",
              "      <td>s2</td>\n",
              "      <td>TV Show</td>\n",
              "      <td>Blood &amp; Water</td>\n",
              "      <td>missingdata</td>\n",
              "      <td>amaqamata,khosingema,gailmabalane,thabangmolab...</td>\n",
              "      <td>South Africa</td>\n",
              "      <td>2021</td>\n",
              "      <td>TV-MA</td>\n",
              "      <td>2 Seasons</td>\n",
              "      <td>internationaltvshows,tvdramas,tvmysteries</td>\n",
              "      <td>aftercrossingpathsataparty,acapetownteensetsou...</td>\n",
              "      <td>2021</td>\n",
              "      <td>9</td>\n",
              "      <td>September</td>\n",
              "      <td>Blood &amp; Water missingdata amaqamata,khosingema...</td>\n",
              "      <td>aftercrossingpathsataparty,acapetownteensetsou...</td>\n",
              "      <td>aftercrossingpathsataparty acapetownteensetsou...</td>\n",
              "      <td>internationaltvshows</td>\n",
              "      <td>tvdramas</td>\n",
              "      <td>tvmysteries</td>\n",
              "      <td>1088</td>\n",
              "      <td>16</td>\n",
              "      <td>1</td>\n",
              "      <td>8</td>\n",
              "      <td>706</td>\n",
              "      <td>0</td>\n",
              "    </tr>\n",
              "    <tr>\n",
              "      <th>2</th>\n",
              "      <td>s3</td>\n",
              "      <td>TV Show</td>\n",
              "      <td>Ganglands</td>\n",
              "      <td>julienleclercq</td>\n",
              "      <td>samibouajila,tracygotoas,samueljouy,nabihaakka...</td>\n",
              "      <td>other</td>\n",
              "      <td>2021</td>\n",
              "      <td>TV-MA</td>\n",
              "      <td>1 Season</td>\n",
              "      <td>crimetvshows,internationaltvshows,tvaction&amp;adv...</td>\n",
              "      <td>toprotecthisfamilyfromapowerfuldruglord,skille...</td>\n",
              "      <td>2021</td>\n",
              "      <td>9</td>\n",
              "      <td>September</td>\n",
              "      <td>Ganglands julienleclercq samibouajila,tracygot...</td>\n",
              "      <td>toprotecthisfamilyfromapowerfuldruglord,skille...</td>\n",
              "      <td>toprotecthisfamilyfromapowerfuldruglord skille...</td>\n",
              "      <td>crimetvshows</td>\n",
              "      <td>internationaltvshows</td>\n",
              "      <td>tvaction&amp;adventure</td>\n",
              "      <td>2646</td>\n",
              "      <td>8</td>\n",
              "      <td>1</td>\n",
              "      <td>8</td>\n",
              "      <td>7330</td>\n",
              "      <td>3</td>\n",
              "    </tr>\n",
              "    <tr>\n",
              "      <th>3</th>\n",
              "      <td>s4</td>\n",
              "      <td>TV Show</td>\n",
              "      <td>Jailbirds New Orleans</td>\n",
              "      <td>missingdata</td>\n",
              "      <td>missingdata</td>\n",
              "      <td>other</td>\n",
              "      <td>2021</td>\n",
              "      <td>TV-MA</td>\n",
              "      <td>1 Season</td>\n",
              "      <td>docuseries,realitytv</td>\n",
              "      <td>feuds,flirtationsandtoilettalkgodownamongthein...</td>\n",
              "      <td>2021</td>\n",
              "      <td>9</td>\n",
              "      <td>September</td>\n",
              "      <td>Jailbirds New Orleans missingdata missingdata ...</td>\n",
              "      <td>feuds,flirtationsandtoilettalkgodownamongthein...</td>\n",
              "      <td>feuds flirtationsandtoilettalkgodownamongthein...</td>\n",
              "      <td>docuseries</td>\n",
              "      <td>realitytv</td>\n",
              "      <td>None</td>\n",
              "      <td>3499</td>\n",
              "      <td>11</td>\n",
              "      <td>1</td>\n",
              "      <td>8</td>\n",
              "      <td>3612</td>\n",
              "      <td>0</td>\n",
              "    </tr>\n",
              "    <tr>\n",
              "      <th>4</th>\n",
              "      <td>s5</td>\n",
              "      <td>TV Show</td>\n",
              "      <td>Kota Factory</td>\n",
              "      <td>missingdata</td>\n",
              "      <td>mayurmore,jitendrakumar,ranjanraj,alamkhan,ahs...</td>\n",
              "      <td>India</td>\n",
              "      <td>2021</td>\n",
              "      <td>TV-MA</td>\n",
              "      <td>2 Seasons</td>\n",
              "      <td>internationaltvshows,romantictvshows,tvcomedies</td>\n",
              "      <td>inacityofcoachingcentersknowntotrainindia’sfin...</td>\n",
              "      <td>2021</td>\n",
              "      <td>9</td>\n",
              "      <td>September</td>\n",
              "      <td>Kota Factory missingdata mayurmore,jitendrakum...</td>\n",
              "      <td>inacityofcoachingcentersknowntotrainindia’sfin...</td>\n",
              "      <td>inacityofcoachingcentersknowntotrainindia sfin...</td>\n",
              "      <td>internationaltvshows</td>\n",
              "      <td>romantictvshows</td>\n",
              "      <td>tvcomedies</td>\n",
              "      <td>3853</td>\n",
              "      <td>16</td>\n",
              "      <td>1</td>\n",
              "      <td>8</td>\n",
              "      <td>4367</td>\n",
              "      <td>3</td>\n",
              "    </tr>\n",
              "    <tr>\n",
              "      <th>...</th>\n",
              "      <td>...</td>\n",
              "      <td>...</td>\n",
              "      <td>...</td>\n",
              "      <td>...</td>\n",
              "      <td>...</td>\n",
              "      <td>...</td>\n",
              "      <td>...</td>\n",
              "      <td>...</td>\n",
              "      <td>...</td>\n",
              "      <td>...</td>\n",
              "      <td>...</td>\n",
              "      <td>...</td>\n",
              "      <td>...</td>\n",
              "      <td>...</td>\n",
              "      <td>...</td>\n",
              "      <td>...</td>\n",
              "      <td>...</td>\n",
              "      <td>...</td>\n",
              "      <td>...</td>\n",
              "      <td>...</td>\n",
              "      <td>...</td>\n",
              "      <td>...</td>\n",
              "      <td>...</td>\n",
              "      <td>...</td>\n",
              "      <td>...</td>\n",
              "      <td>...</td>\n",
              "    </tr>\n",
              "    <tr>\n",
              "      <th>8802</th>\n",
              "      <td>s8803</td>\n",
              "      <td>Movie</td>\n",
              "      <td>Zodiac</td>\n",
              "      <td>davidfincher</td>\n",
              "      <td>markruffalo,jakegyllenhaal,robertdowneyjr.,ant...</td>\n",
              "      <td>United States</td>\n",
              "      <td>2007</td>\n",
              "      <td>R</td>\n",
              "      <td>158 min</td>\n",
              "      <td>cultmovies,dramas,thrillers</td>\n",
              "      <td>apoliticalcartoonist,acrimereporterandapairofc...</td>\n",
              "      <td>2019</td>\n",
              "      <td>11</td>\n",
              "      <td>November</td>\n",
              "      <td>Zodiac davidfincher markruffalo,jakegyllenhaal...</td>\n",
              "      <td>apoliticalcartoonist,acrimereporterandapairofc...</td>\n",
              "      <td>apoliticalcartoonist acrimereporterandapairofc...</td>\n",
              "      <td>cultmovies</td>\n",
              "      <td>dramas</td>\n",
              "      <td>thrillers</td>\n",
              "      <td>8753</td>\n",
              "      <td>9</td>\n",
              "      <td>0</td>\n",
              "      <td>5</td>\n",
              "      <td>1847</td>\n",
              "      <td>2</td>\n",
              "    </tr>\n",
              "    <tr>\n",
              "      <th>8803</th>\n",
              "      <td>s8804</td>\n",
              "      <td>TV Show</td>\n",
              "      <td>Zombie Dumb</td>\n",
              "      <td>missingdata</td>\n",
              "      <td>missingdata</td>\n",
              "      <td>other</td>\n",
              "      <td>2018</td>\n",
              "      <td>TV-Y7</td>\n",
              "      <td>2 Seasons</td>\n",
              "      <td>kids'tv,koreantvshows,tvcomedies</td>\n",
              "      <td>whilelivingaloneinaspookytown,ayounggirlbefrie...</td>\n",
              "      <td>2019</td>\n",
              "      <td>7</td>\n",
              "      <td>July</td>\n",
              "      <td>Zombie Dumb missingdata missingdata kids'tv,ko...</td>\n",
              "      <td>whilelivingaloneinaspookytown,ayounggirlbefrie...</td>\n",
              "      <td>whilelivingaloneinaspookytown ayounggirlbefrie...</td>\n",
              "      <td>kids'tv</td>\n",
              "      <td>koreantvshows</td>\n",
              "      <td>tvcomedies</td>\n",
              "      <td>8756</td>\n",
              "      <td>17</td>\n",
              "      <td>1</td>\n",
              "      <td>11</td>\n",
              "      <td>8461</td>\n",
              "      <td>1</td>\n",
              "    </tr>\n",
              "    <tr>\n",
              "      <th>8804</th>\n",
              "      <td>s8805</td>\n",
              "      <td>Movie</td>\n",
              "      <td>Zombieland</td>\n",
              "      <td>rubenfleischer</td>\n",
              "      <td>jesseeisenberg,woodyharrelson,emmastone,abigai...</td>\n",
              "      <td>United States</td>\n",
              "      <td>2009</td>\n",
              "      <td>R</td>\n",
              "      <td>88 min</td>\n",
              "      <td>comedies,horrormovies</td>\n",
              "      <td>lookingtosurviveinaworldtakenoverbyzombies,ado...</td>\n",
              "      <td>2019</td>\n",
              "      <td>11</td>\n",
              "      <td>November</td>\n",
              "      <td>Zombieland rubenfleischer jesseeisenberg,woody...</td>\n",
              "      <td>lookingtosurviveinaworldtakenoverbyzombies,ado...</td>\n",
              "      <td>lookingtosurviveinaworldtakenoverbyzombies ado...</td>\n",
              "      <td>comedies</td>\n",
              "      <td>horrormovies</td>\n",
              "      <td>None</td>\n",
              "      <td>8757</td>\n",
              "      <td>7</td>\n",
              "      <td>0</td>\n",
              "      <td>5</td>\n",
              "      <td>5221</td>\n",
              "      <td>1</td>\n",
              "    </tr>\n",
              "    <tr>\n",
              "      <th>8805</th>\n",
              "      <td>s8806</td>\n",
              "      <td>Movie</td>\n",
              "      <td>Zoom</td>\n",
              "      <td>peterhewitt</td>\n",
              "      <td>timallen,courteneycox,chevychase,katemara,ryan...</td>\n",
              "      <td>United States</td>\n",
              "      <td>2006</td>\n",
              "      <td>PG</td>\n",
              "      <td>88 min</td>\n",
              "      <td>children&amp;familymovies,comedies</td>\n",
              "      <td>draggedfromcivilianlife,aformersuperheromusttr...</td>\n",
              "      <td>2020</td>\n",
              "      <td>1</td>\n",
              "      <td>January</td>\n",
              "      <td>Zoom peterhewitt timallen,courteneycox,chevych...</td>\n",
              "      <td>draggedfromcivilianlife,aformersuperheromusttr...</td>\n",
              "      <td>draggedfromcivilianlife aformersuperheromusttr...</td>\n",
              "      <td>children&amp;familymovies</td>\n",
              "      <td>comedies</td>\n",
              "      <td>None</td>\n",
              "      <td>8760</td>\n",
              "      <td>4</td>\n",
              "      <td>0</td>\n",
              "      <td>3</td>\n",
              "      <td>3310</td>\n",
              "      <td>2</td>\n",
              "    </tr>\n",
              "    <tr>\n",
              "      <th>8806</th>\n",
              "      <td>s8807</td>\n",
              "      <td>Movie</td>\n",
              "      <td>Zubaan</td>\n",
              "      <td>mozezsingh</td>\n",
              "      <td>vickykaushal,sarah-janedias,raaghavchanana,man...</td>\n",
              "      <td>India</td>\n",
              "      <td>2015</td>\n",
              "      <td>TV-14</td>\n",
              "      <td>111 min</td>\n",
              "      <td>dramas,internationalmovies,music&amp;musicals</td>\n",
              "      <td>ascrappybutpoorboywormshiswayintoatycoon'sdysf...</td>\n",
              "      <td>2019</td>\n",
              "      <td>3</td>\n",
              "      <td>March</td>\n",
              "      <td>Zubaan mozezsingh vickykaushal,sarah-janedias,...</td>\n",
              "      <td>ascrappybutpoorboywormshiswayintoatycoon'sdysf...</td>\n",
              "      <td>ascrappybutpoorboywormshiswayintoatycoonsdysfu...</td>\n",
              "      <td>dramas</td>\n",
              "      <td>internationalmovies</td>\n",
              "      <td>music&amp;musicals</td>\n",
              "      <td>8764</td>\n",
              "      <td>12</td>\n",
              "      <td>0</td>\n",
              "      <td>6</td>\n",
              "      <td>2045</td>\n",
              "      <td>2</td>\n",
              "    </tr>\n",
              "  </tbody>\n",
              "</table>\n",
              "<p>8790 rows × 26 columns</p>\n",
              "</div>"
            ],
            "text/plain": [
              "     show_id     type  ... description_encoded cluster\n",
              "0         s1    Movie  ...                2093       0\n",
              "1         s2  TV Show  ...                 706       0\n",
              "2         s3  TV Show  ...                7330       3\n",
              "3         s4  TV Show  ...                3612       0\n",
              "4         s5  TV Show  ...                4367       3\n",
              "...      ...      ...  ...                 ...     ...\n",
              "8802   s8803    Movie  ...                1847       2\n",
              "8803   s8804  TV Show  ...                8461       1\n",
              "8804   s8805    Movie  ...                5221       1\n",
              "8805   s8806    Movie  ...                3310       2\n",
              "8806   s8807    Movie  ...                2045       2\n",
              "\n",
              "[8790 rows x 26 columns]"
            ]
          },
          "metadata": {},
          "execution_count": 320
        }
      ]
    },
    {
      "cell_type": "markdown",
      "source": [
        "## new\n"
      ],
      "metadata": {
        "id": "Vr_1OAt9W_LS"
      },
      "id": "Vr_1OAt9W_LS"
    },
    {
      "cell_type": "markdown",
      "source": [
        "naive_bayes"
      ],
      "metadata": {
        "id": "ju-oO6ICiqDI"
      },
      "id": "ju-oO6ICiqDI"
    },
    {
      "cell_type": "code",
      "source": [
        ""
      ],
      "metadata": {
        "id": "doZK7XQHM17P"
      },
      "id": "doZK7XQHM17P",
      "execution_count": null,
      "outputs": []
    },
    {
      "cell_type": "code",
      "source": [
        ""
      ],
      "metadata": {
        "id": "S2o0KiBHYQnR"
      },
      "id": "S2o0KiBHYQnR",
      "execution_count": null,
      "outputs": []
    }
  ],
  "metadata": {
    "kernelspec": {
      "display_name": "Python 3",
      "language": "python",
      "name": "python3"
    },
    "language_info": {
      "codemirror_mode": {
        "name": "ipython",
        "version": 3
      },
      "file_extension": ".py",
      "mimetype": "text/x-python",
      "name": "python",
      "nbconvert_exporter": "python",
      "pygments_lexer": "ipython3",
      "version": "3.8.8"
    },
    "colab": {
      "name": "Copy of final  netflix_projectv3.ipynb",
      "provenance": [],
      "collapsed_sections": []
    }
  },
  "nbformat": 4,
  "nbformat_minor": 5
}